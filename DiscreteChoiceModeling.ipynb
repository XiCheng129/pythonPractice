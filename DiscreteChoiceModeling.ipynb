{
 "cells": [
  {
   "cell_type": "code",
   "execution_count": 2,
   "metadata": {},
   "outputs": [],
   "source": [
    "import larch, numpy, pandas, os"
   ]
  },
  {
   "cell_type": "code",
   "execution_count": 3,
   "metadata": {},
   "outputs": [],
   "source": [
    "import larch.exampville"
   ]
  },
  {
   "cell_type": "code",
   "execution_count": 4,
   "metadata": {},
   "outputs": [
    {
     "data": {
      "text/plain": [
       "<larch.OMX> ⋯/exampville_skims.omx\n",
       " |  shape:(40, 40)\n",
       " |  data:\n",
       " |    AUTO_COST    (float64)\n",
       " |    AUTO_DIST    (float64)\n",
       " |    AUTO_TIME    (float64)\n",
       " |    BIKE_TIME    (float64)\n",
       " |    TRANSIT_FARE (float64)\n",
       " |    TRANSIT_IVTT (float64)\n",
       " |    TRANSIT_OVTT (float64)\n",
       " |    WALK_DIST    (float64)\n",
       " |    WALK_TIME    (float64)\n",
       " |  lookup:\n",
       " |    TAZ_AREA_TYPE (40 |S3)\n",
       " |    TAZ_ID        (40 int64)"
      ]
     },
     "execution_count": 4,
     "metadata": {},
     "output_type": "execute_result"
    }
   ],
   "source": [
    "skims = larch.OMX( larch.exampville.files.skims, mode='r' )\n",
    "skims"
   ]
  },
  {
   "cell_type": "code",
   "execution_count": 5,
   "metadata": {},
   "outputs": [],
   "source": [
    "hh = pandas.read_csv( larch.exampville.files.hh )\n",
    "pp = pandas.read_csv( larch.exampville.files.person )\n",
    "tour = pandas.read_csv( larch.exampville.files.tour )"
   ]
  },
  {
   "cell_type": "code",
   "execution_count": 6,
   "metadata": {},
   "outputs": [
    {
     "name": "stdout",
     "output_type": "stream",
     "text": [
      "<class 'pandas.core.frame.DataFrame'>\n",
      "RangeIndex: 5000 entries, 0 to 4999\n",
      "Data columns (total 13 columns):\n",
      " #   Column       Non-Null Count  Dtype  \n",
      "---  ------       --------------  -----  \n",
      " 0   X            5000 non-null   float64\n",
      " 1   Y            5000 non-null   float64\n",
      " 2   INCOME       5000 non-null   float64\n",
      " 3   N_VEHICLES   5000 non-null   int64  \n",
      " 4   HHSIZE       5000 non-null   int64  \n",
      " 5   geometry     5000 non-null   object \n",
      " 6   HOMETAZ      5000 non-null   int64  \n",
      " 7   HHID         5000 non-null   int64  \n",
      " 8   N_TRIPS      5000 non-null   int64  \n",
      " 9   N_TRIPS_HBW  5000 non-null   int64  \n",
      " 10  N_TRIPS_HBO  5000 non-null   int64  \n",
      " 11  N_TRIPS_NHB  5000 non-null   int64  \n",
      " 12  N_WORKERS    5000 non-null   int64  \n",
      "dtypes: float64(3), int64(9), object(1)\n",
      "memory usage: 507.9+ KB\n"
     ]
    }
   ],
   "source": [
    "hh.info()"
   ]
  },
  {
   "cell_type": "code",
   "execution_count": 7,
   "metadata": {},
   "outputs": [
    {
     "name": "stdout",
     "output_type": "stream",
     "text": [
      "<class 'pandas.core.frame.DataFrame'>\n",
      "RangeIndex: 12349 entries, 0 to 12348\n",
      "Data columns (total 12 columns):\n",
      " #   Column         Non-Null Count  Dtype\n",
      "---  ------         --------------  -----\n",
      " 0   PERSONID       12349 non-null  int64\n",
      " 1   HHID           12349 non-null  int64\n",
      " 2   HHIDX          12349 non-null  int64\n",
      " 3   AGE            12349 non-null  int64\n",
      " 4   WORKS          12349 non-null  int64\n",
      " 5   N_WORK_TOURS   12349 non-null  int64\n",
      " 6   N_OTHER_TOURS  12349 non-null  int64\n",
      " 7   N_TOURS        12349 non-null  int64\n",
      " 8   N_TRIPS        12349 non-null  int64\n",
      " 9   N_TRIPS_HBW    12349 non-null  int64\n",
      " 10  N_TRIPS_HBO    12349 non-null  int64\n",
      " 11  N_TRIPS_NHB    12349 non-null  int64\n",
      "dtypes: int64(12)\n",
      "memory usage: 1.1 MB\n"
     ]
    }
   ],
   "source": [
    "pp.info()"
   ]
  },
  {
   "cell_type": "code",
   "execution_count": 8,
   "metadata": {},
   "outputs": [
    {
     "name": "stdout",
     "output_type": "stream",
     "text": [
      "<class 'pandas.core.frame.DataFrame'>\n",
      "RangeIndex: 20739 entries, 0 to 20738\n",
      "Data columns (total 11 columns):\n",
      " #   Column       Non-Null Count  Dtype\n",
      "---  ------       --------------  -----\n",
      " 0   TOURID       20739 non-null  int64\n",
      " 1   HHID         20739 non-null  int64\n",
      " 2   PERSONID     20739 non-null  int64\n",
      " 3   DTAZ         20739 non-null  int64\n",
      " 4   TOURMODE     20739 non-null  int64\n",
      " 5   TOURPURP     20739 non-null  int64\n",
      " 6   N_STOPS      20739 non-null  int64\n",
      " 7   N_TRIPS      20739 non-null  int64\n",
      " 8   N_TRIPS_HBW  20739 non-null  int64\n",
      " 9   N_TRIPS_HBO  20739 non-null  int64\n",
      " 10  N_TRIPS_NHB  20739 non-null  int64\n",
      "dtypes: int64(11)\n",
      "memory usage: 1.7 MB\n"
     ]
    }
   ],
   "source": [
    "tour.info()"
   ]
  },
  {
   "cell_type": "code",
   "execution_count": 9,
   "metadata": {},
   "outputs": [
    {
     "data": {
      "text/html": [
       "<div xmlns=\"http://www.w3.org/2000/svg\" xmlns:xlink=\"http://www.w3.org/1999/xlink\"><table style=\"margin-top:1px;\"><tr><th>key</th><th style=\"text-align:left;\">value</th></tr><tr><td>n</td><td style=\"text-align:left;\">20739</td></tr><tr><td>minimum</td><td style=\"text-align:left;\">1</td></tr><tr><td>maximum</td><td style=\"text-align:left;\">2</td></tr><tr><td>median</td><td style=\"text-align:left;\">2.0</td></tr><tr><td>histogram</td><td style=\"text-align:left;\"><div class=\"figure\" metadata=\"gASVIAEAAAAAAAB9lCiMC2Jpbl9oZWlnaHRzlIwcbnVtcHkuY29yZS5fbXVsdGlhcnJheV91bWF0aJSMDF9yZWNvbnN0cnVjdJSTlIwFbnVtcHmUjAduZGFycmF5lJOUSwCFlEMBYpSHlFKUKEsBSwKFlGgFjAVkdHlwZZSTlIwCaTiUSwBLAYeUUpQoSwOMATyUTk5OSv////9K/////0sAdJRiiUMQjB0AAAAAAAB3MwAAAAAAAJR0lGKMCWJpbl9lZGdlc5RoBGgHSwCFlGgJh5RSlChLAUsDhZRoEYlDGAAAAAAAAAAAAQAAAAAAAAACAAAAAAAAAJR0lGKMEXplcm9zX2FyZV9kcm9wcGVklImMEnJhbmdlX2lzX3RydW5jYXRlZJSJdS4=\" range_is_truncated=\"False\" style=\"min-width:5in\" zeros_are_dropped=\"False\"><svg height=\"107.335268pt\" version=\"1.1\" viewBox=\"0 0 364.478125 107.335268\" width=\"364.478125pt\">\n",
       " <defs>\n",
       "  <style type=\"text/css\">\n",
       "*{stroke-linecap:butt;stroke-linejoin:round;}\n",
       "  </style>\n",
       " </defs>\n",
       " <g id=\"figure_1\">\n",
       "  <title>Histograms are purple if the data is represented as discrete values.</title><g id=\"patch_1\">\n",
       "   <path d=\"M 0 107.335268  L 364.478125 107.335268  L 364.478125 0  L 0 0  z \" style=\"fill:none;\"></path>\n",
       "  </g>\n",
       "  <g id=\"axes_1\">\n",
       "   <g id=\"patch_2\">\n",
       "    <path d=\"M 20.878125 83.457143  L 357.278125 83.457143  L 357.278125 7.2  L 20.878125 7.2  z \" style=\"fill:none;\"></path>\n",
       "   </g>\n",
       "   <g id=\"patch_3\">\n",
       "    <path clip-path=\"url(#pf1fb55f042)\" d=\"M 36.169034 83.457143  L 172.088226 83.457143  L 172.088226 41.761361  L 36.169034 41.761361  z \" style=\"fill:#6478ba;\"></path>\n",
       "   </g>\n",
       "   <g id=\"patch_4\">\n",
       "    <path clip-path=\"url(#pf1fb55f042)\" d=\"M 206.068024 83.457143  L 341.987216 83.457143  L 341.987216 10.831293  L 206.068024 10.831293  z \" style=\"fill:#6478ba;\"></path>\n",
       "   </g>\n",
       "   <g id=\"matplotlib.axis_1\">\n",
       "    <g id=\"xtick_1\">\n",
       "     <g id=\"line2d_1\">\n",
       "      <defs>\n",
       "       <path d=\"M 0 0  L 0 3.5  \" id=\"m452a5bcaea\" style=\"stroke:#000000;stroke-width:0.8;\"></path>\n",
       "      </defs>\n",
       "      <g>\n",
       "       <use style=\"stroke:#000000;stroke-width:0.8;\" x=\"104.12863\" y=\"83.457143\" xlink:href=\"#m452a5bcaea\"></use>\n",
       "      </g>\n",
       "     </g>\n",
       "     <g id=\"text_1\">\n",
       "      \n",
       "      <defs>\n",
       "       <path d=\"M 12.40625 8.296875  L 28.515625 8.296875  L 28.515625 63.921875  L 10.984375 60.40625  L 10.984375 69.390625  L 28.421875 72.90625  L 38.28125 72.90625  L 38.28125 8.296875  L 54.390625 8.296875  L 54.390625 0  L 12.40625 0  z \" id=\"DejaVuSans-49\"></path>\n",
       "      </defs>\n",
       "      <g transform=\"translate(100.94738 98.05558)scale(0.1 -0.1)\">\n",
       "       <use xlink:href=\"#DejaVuSans-49\"></use>\n",
       "      </g>\n",
       "     </g>\n",
       "    </g>\n",
       "    <g id=\"xtick_2\">\n",
       "     <g id=\"line2d_2\">\n",
       "      <g>\n",
       "       <use style=\"stroke:#000000;stroke-width:0.8;\" x=\"274.02762\" y=\"83.457143\" xlink:href=\"#m452a5bcaea\"></use>\n",
       "      </g>\n",
       "     </g>\n",
       "     <g id=\"text_2\">\n",
       "      \n",
       "      <defs>\n",
       "       <path d=\"M 19.1875 8.296875  L 53.609375 8.296875  L 53.609375 0  L 7.328125 0  L 7.328125 8.296875  Q 12.9375 14.109375 22.625 23.890625  Q 32.328125 33.6875 34.8125 36.53125  Q 39.546875 41.84375 41.421875 45.53125  Q 43.3125 49.21875 43.3125 52.78125  Q 43.3125 58.59375 39.234375 62.25  Q 35.15625 65.921875 28.609375 65.921875  Q 23.96875 65.921875 18.8125 64.3125  Q 13.671875 62.703125 7.8125 59.421875  L 7.8125 69.390625  Q 13.765625 71.78125 18.9375 73  Q 24.125 74.21875 28.421875 74.21875  Q 39.75 74.21875 46.484375 68.546875  Q 53.21875 62.890625 53.21875 53.421875  Q 53.21875 48.921875 51.53125 44.890625  Q 49.859375 40.875 45.40625 35.40625  Q 44.1875 33.984375 37.640625 27.21875  Q 31.109375 20.453125 19.1875 8.296875  z \" id=\"DejaVuSans-50\"></path>\n",
       "      </defs>\n",
       "      <g transform=\"translate(270.84637 98.05558)scale(0.1 -0.1)\">\n",
       "       <use xlink:href=\"#DejaVuSans-50\"></use>\n",
       "      </g>\n",
       "     </g>\n",
       "    </g>\n",
       "   </g>\n",
       "   <g id=\"matplotlib.axis_2\">\n",
       "    <g id=\"text_3\">\n",
       "     \n",
       "     <defs>\n",
       "      <path d=\"M 9.8125 72.90625  L 51.703125 72.90625  L 51.703125 64.59375  L 19.671875 64.59375  L 19.671875 43.109375  L 48.578125 43.109375  L 48.578125 34.8125  L 19.671875 34.8125  L 19.671875 0  L 9.8125 0  z \" id=\"DejaVuSans-70\"></path>\n",
       "      <path d=\"M 41.109375 46.296875  Q 39.59375 47.171875 37.8125 47.578125  Q 36.03125 48 33.890625 48  Q 26.265625 48 22.1875 43.046875  Q 18.109375 38.09375 18.109375 28.8125  L 18.109375 0  L 9.078125 0  L 9.078125 54.6875  L 18.109375 54.6875  L 18.109375 46.1875  Q 20.953125 51.171875 25.484375 53.578125  Q 30.03125 56 36.53125 56  Q 37.453125 56 38.578125 55.875  Q 39.703125 55.765625 41.0625 55.515625  z \" id=\"DejaVuSans-114\"></path>\n",
       "      <path d=\"M 56.203125 29.59375  L 56.203125 25.203125  L 14.890625 25.203125  Q 15.484375 15.921875 20.484375 11.0625  Q 25.484375 6.203125 34.421875 6.203125  Q 39.59375 6.203125 44.453125 7.46875  Q 49.3125 8.734375 54.109375 11.28125  L 54.109375 2.78125  Q 49.265625 0.734375 44.1875 -0.34375  Q 39.109375 -1.421875 33.890625 -1.421875  Q 20.796875 -1.421875 13.15625 6.1875  Q 5.515625 13.8125 5.515625 26.8125  Q 5.515625 40.234375 12.765625 48.109375  Q 20.015625 56 32.328125 56  Q 43.359375 56 49.78125 48.890625  Q 56.203125 41.796875 56.203125 29.59375  z M 47.21875 32.234375  Q 47.125 39.59375 43.09375 43.984375  Q 39.0625 48.390625 32.421875 48.390625  Q 24.90625 48.390625 20.390625 44.140625  Q 15.875 39.890625 15.1875 32.171875  z \" id=\"DejaVuSans-101\"></path>\n",
       "      <path d=\"M 14.796875 27.296875  Q 14.796875 17.390625 18.875 11.75  Q 22.953125 6.109375 30.078125 6.109375  Q 37.203125 6.109375 41.296875 11.75  Q 45.40625 17.390625 45.40625 27.296875  Q 45.40625 37.203125 41.296875 42.84375  Q 37.203125 48.484375 30.078125 48.484375  Q 22.953125 48.484375 18.875 42.84375  Q 14.796875 37.203125 14.796875 27.296875  z M 45.40625 8.203125  Q 42.578125 3.328125 38.25 0.953125  Q 33.9375 -1.421875 27.875 -1.421875  Q 17.96875 -1.421875 11.734375 6.484375  Q 5.515625 14.40625 5.515625 27.296875  Q 5.515625 40.1875 11.734375 48.09375  Q 17.96875 56 27.875 56  Q 33.9375 56 38.25 53.625  Q 42.578125 51.265625 45.40625 46.390625  L 45.40625 54.6875  L 54.390625 54.6875  L 54.390625 -20.796875  L 45.40625 -20.796875  z \" id=\"DejaVuSans-113\"></path>\n",
       "      <path d=\"M 8.5 21.578125  L 8.5 54.6875  L 17.484375 54.6875  L 17.484375 21.921875  Q 17.484375 14.15625 20.5 10.265625  Q 23.53125 6.390625 29.59375 6.390625  Q 36.859375 6.390625 41.078125 11.03125  Q 45.3125 15.671875 45.3125 23.6875  L 45.3125 54.6875  L 54.296875 54.6875  L 54.296875 0  L 45.3125 0  L 45.3125 8.40625  Q 42.046875 3.421875 37.71875 1  Q 33.40625 -1.421875 27.6875 -1.421875  Q 18.265625 -1.421875 13.375 4.4375  Q 8.5 10.296875 8.5 21.578125  z M 31.109375 56  z \" id=\"DejaVuSans-117\"></path>\n",
       "      <path d=\"M 54.890625 33.015625  L 54.890625 0  L 45.90625 0  L 45.90625 32.71875  Q 45.90625 40.484375 42.875 44.328125  Q 39.84375 48.1875 33.796875 48.1875  Q 26.515625 48.1875 22.3125 43.546875  Q 18.109375 38.921875 18.109375 30.90625  L 18.109375 0  L 9.078125 0  L 9.078125 54.6875  L 18.109375 54.6875  L 18.109375 46.1875  Q 21.34375 51.125 25.703125 53.5625  Q 30.078125 56 35.796875 56  Q 45.21875 56 50.046875 50.171875  Q 54.890625 44.34375 54.890625 33.015625  z \" id=\"DejaVuSans-110\"></path>\n",
       "      <path d=\"M 48.78125 52.59375  L 48.78125 44.1875  Q 44.96875 46.296875 41.140625 47.34375  Q 37.3125 48.390625 33.40625 48.390625  Q 24.65625 48.390625 19.8125 42.84375  Q 14.984375 37.3125 14.984375 27.296875  Q 14.984375 17.28125 19.8125 11.734375  Q 24.65625 6.203125 33.40625 6.203125  Q 37.3125 6.203125 41.140625 7.25  Q 44.96875 8.296875 48.78125 10.40625  L 48.78125 2.09375  Q 45.015625 0.34375 40.984375 -0.53125  Q 36.96875 -1.421875 32.421875 -1.421875  Q 20.0625 -1.421875 12.78125 6.34375  Q 5.515625 14.109375 5.515625 27.296875  Q 5.515625 40.671875 12.859375 48.328125  Q 20.21875 56 33.015625 56  Q 37.15625 56 41.109375 55.140625  Q 45.0625 54.296875 48.78125 52.59375  z \" id=\"DejaVuSans-99\"></path>\n",
       "      <path d=\"M 32.171875 -5.078125  Q 28.375 -14.84375 24.75 -17.8125  Q 21.140625 -20.796875 15.09375 -20.796875  L 7.90625 -20.796875  L 7.90625 -13.28125  L 13.1875 -13.28125  Q 16.890625 -13.28125 18.9375 -11.515625  Q 21 -9.765625 23.484375 -3.21875  L 25.09375 0.875  L 2.984375 54.6875  L 12.5 54.6875  L 29.59375 11.921875  L 46.6875 54.6875  L 56.203125 54.6875  z \" id=\"DejaVuSans-121\"></path>\n",
       "     </defs>\n",
       "     <g transform=\"translate(14.798438 71.158259)rotate(-90)scale(0.1 -0.1)\">\n",
       "      <use xlink:href=\"#DejaVuSans-70\"></use>\n",
       "      <use x=\"50.269531\" xlink:href=\"#DejaVuSans-114\"></use>\n",
       "      <use x=\"89.132812\" xlink:href=\"#DejaVuSans-101\"></use>\n",
       "      <use x=\"150.65625\" xlink:href=\"#DejaVuSans-113\"></use>\n",
       "      <use x=\"214.132812\" xlink:href=\"#DejaVuSans-117\"></use>\n",
       "      <use x=\"277.511719\" xlink:href=\"#DejaVuSans-101\"></use>\n",
       "      <use x=\"339.035156\" xlink:href=\"#DejaVuSans-110\"></use>\n",
       "      <use x=\"402.414062\" xlink:href=\"#DejaVuSans-99\"></use>\n",
       "      <use x=\"457.394531\" xlink:href=\"#DejaVuSans-121\"></use>\n",
       "     </g>\n",
       "    </g>\n",
       "   </g>\n",
       "   <g id=\"patch_5\">\n",
       "    <path d=\"M 20.878125 83.457143  L 20.878125 7.2  \" style=\"fill:none;stroke:#000000;stroke-linecap:square;stroke-linejoin:miter;stroke-width:0.8;\"></path>\n",
       "   </g>\n",
       "   <g id=\"patch_6\">\n",
       "    <path d=\"M 357.278125 83.457143  L 357.278125 7.2  \" style=\"fill:none;\"></path>\n",
       "   </g>\n",
       "   <g id=\"patch_7\">\n",
       "    <path d=\"M 20.878125 83.457143  L 357.278125 83.457143  \" style=\"fill:none;stroke:#000000;stroke-linecap:square;stroke-linejoin:miter;stroke-width:0.8;\"></path>\n",
       "   </g>\n",
       "   <g id=\"patch_8\">\n",
       "    <path d=\"M 20.878125 7.2  L 357.278125 7.2  \" style=\"fill:none;\"></path>\n",
       "   </g>\n",
       "  </g>\n",
       " </g>\n",
       " <defs>\n",
       "  <clipPath id=\"pf1fb55f042\">\n",
       "   <rect height=\"76.257143\" width=\"336.4\" x=\"20.878125\" y=\"7.2\"></rect>\n",
       "  </clipPath>\n",
       " </defs>\n",
       "</svg></div></td></tr><tr><td>mean</td><td style=\"text-align:left;\">1.6352765321375187</td></tr><tr><td>stdev</td><td style=\"text-align:left;\">0.48135253178190196</td></tr><tr><td>zeros</td><td style=\"text-align:left;\">0</td></tr><tr><td>positives</td><td style=\"text-align:left;\">20739</td></tr><tr><td>negatives</td><td style=\"text-align:left;\">0</td></tr><tr><td>nonzero_minimum</td><td style=\"text-align:left;\">1</td></tr><tr><td>nonzero_maximum</td><td style=\"text-align:left;\">2</td></tr><tr><td>nonzero_mean</td><td style=\"text-align:left;\">1.6352765321375187</td></tr><tr><td>nonzero_stdev</td><td style=\"text-align:left;\">0.48135253178190196</td></tr></table></div>"
      ],
      "text/plain": [
       "┣               n: 20739\n",
       "┣         minimum: 1\n",
       "┣         maximum: 2\n",
       "┣          median: 2.0\n",
       "┣       histogram: <xmle.Elem 'div' with 1 children>\n",
       "┣            mean: 1.6352765321375187\n",
       "┣           stdev: 0.48135253178190196\n",
       "┣           zeros: 0\n",
       "┣       positives: 20739\n",
       "┣       negatives: 0\n",
       "┣ nonzero_minimum: 1\n",
       "┣ nonzero_maximum: 2\n",
       "┣    nonzero_mean: 1.6352765321375187\n",
       "┣   nonzero_stdev: 0.48135253178190196"
      ]
     },
     "execution_count": 9,
     "metadata": {},
     "output_type": "execute_result"
    }
   ],
   "source": [
    "tour.TOURPURP.statistics()"
   ]
  },
  {
   "cell_type": "code",
   "execution_count": 10,
   "metadata": {},
   "outputs": [],
   "source": [
    "df = tour[tour.TOURPURP == 1]"
   ]
  },
  {
   "cell_type": "code",
   "execution_count": 11,
   "metadata": {},
   "outputs": [],
   "source": [
    "df = df.merge(hh, on='HHID').merge(pp, on=('HHID', 'PERSONID'))"
   ]
  },
  {
   "cell_type": "code",
   "execution_count": 12,
   "metadata": {},
   "outputs": [],
   "source": [
    "df[\"HOMETAZi\"] = df[\"HOMETAZ\"] - 1\n",
    "df[\"DTAZi\"] = df[\"DTAZ\"] - 1"
   ]
  },
  {
   "cell_type": "code",
   "execution_count": 13,
   "metadata": {},
   "outputs": [],
   "source": [
    "df = df.join(\n",
    "    skims.get_rc_dataframe(\n",
    "        df[\"HOMETAZi\"], df[\"DTAZi\"],\n",
    "    )\n",
    ")"
   ]
  },
  {
   "cell_type": "code",
   "execution_count": 14,
   "metadata": {},
   "outputs": [
    {
     "name": "stdout",
     "output_type": "stream",
     "text": [
      "<class 'pandas.core.frame.DataFrame'>\n",
      "Int64Index: 7564 entries, 0 to 7563\n",
      "Data columns (total 44 columns):\n",
      " #   Column         Non-Null Count  Dtype  \n",
      "---  ------         --------------  -----  \n",
      " 0   TOURID         7564 non-null   int64  \n",
      " 1   HHID           7564 non-null   int64  \n",
      " 2   PERSONID       7564 non-null   int64  \n",
      " 3   DTAZ           7564 non-null   int64  \n",
      " 4   TOURMODE       7564 non-null   int64  \n",
      " 5   TOURPURP       7564 non-null   int64  \n",
      " 6   N_STOPS        7564 non-null   int64  \n",
      " 7   N_TRIPS_x      7564 non-null   int64  \n",
      " 8   N_TRIPS_HBW_x  7564 non-null   int64  \n",
      " 9   N_TRIPS_HBO_x  7564 non-null   int64  \n",
      " 10  N_TRIPS_NHB_x  7564 non-null   int64  \n",
      " 11  X              7564 non-null   float64\n",
      " 12  Y              7564 non-null   float64\n",
      " 13  INCOME         7564 non-null   float64\n",
      " 14  N_VEHICLES     7564 non-null   int64  \n",
      " 15  HHSIZE         7564 non-null   int64  \n",
      " 16  geometry       7564 non-null   object \n",
      " 17  HOMETAZ        7564 non-null   int64  \n",
      " 18  N_TRIPS_y      7564 non-null   int64  \n",
      " 19  N_TRIPS_HBW_y  7564 non-null   int64  \n",
      " 20  N_TRIPS_HBO_y  7564 non-null   int64  \n",
      " 21  N_TRIPS_NHB_y  7564 non-null   int64  \n",
      " 22  N_WORKERS      7564 non-null   int64  \n",
      " 23  HHIDX          7564 non-null   int64  \n",
      " 24  AGE            7564 non-null   int64  \n",
      " 25  WORKS          7564 non-null   int64  \n",
      " 26  N_WORK_TOURS   7564 non-null   int64  \n",
      " 27  N_OTHER_TOURS  7564 non-null   int64  \n",
      " 28  N_TOURS        7564 non-null   int64  \n",
      " 29  N_TRIPS        7564 non-null   int64  \n",
      " 30  N_TRIPS_HBW    7564 non-null   int64  \n",
      " 31  N_TRIPS_HBO    7564 non-null   int64  \n",
      " 32  N_TRIPS_NHB    7564 non-null   int64  \n",
      " 33  HOMETAZi       7564 non-null   int64  \n",
      " 34  DTAZi          7564 non-null   int64  \n",
      " 35  AUTO_COST      7564 non-null   float64\n",
      " 36  AUTO_DIST      7564 non-null   float64\n",
      " 37  AUTO_TIME      7564 non-null   float64\n",
      " 38  BIKE_TIME      7564 non-null   float64\n",
      " 39  TRANSIT_FARE   7564 non-null   float64\n",
      " 40  TRANSIT_IVTT   7564 non-null   float64\n",
      " 41  TRANSIT_OVTT   7564 non-null   float64\n",
      " 42  WALK_DIST      7564 non-null   float64\n",
      " 43  WALK_TIME      7564 non-null   float64\n",
      "dtypes: float64(12), int64(31), object(1)\n",
      "memory usage: 2.9+ MB\n"
     ]
    }
   ],
   "source": [
    "df.info()"
   ]
  },
  {
   "cell_type": "code",
   "execution_count": 15,
   "metadata": {},
   "outputs": [],
   "source": [
    "# For clarity, we can define numbers as names for modes\n",
    "DA = 1\n",
    "SR = 2\n",
    "Walk = 3\n",
    "Bike = 4\n",
    "Transit = 5"
   ]
  },
  {
   "cell_type": "code",
   "execution_count": 16,
   "metadata": {},
   "outputs": [],
   "source": [
    "dfs = larch.DataFrames(\n",
    "    co=df,\n",
    "    alt_codes=[DA,SR,Walk,Bike,Transit],\n",
    "    alt_names=['DA','SR','Walk','Bike','Transit'],\n",
    "    ch_name='TOURMODE',\n",
    ")"
   ]
  },
  {
   "cell_type": "code",
   "execution_count": 17,
   "metadata": {},
   "outputs": [],
   "source": [
    "m = larch.Model(dataservice=dfs)\n",
    "m.title = \"Exampville Work Tour Mode Choice v1\""
   ]
  },
  {
   "cell_type": "code",
   "execution_count": 18,
   "metadata": {},
   "outputs": [],
   "source": [
    "from larch import P, X"
   ]
  },
  {
   "cell_type": "code",
   "execution_count": 19,
   "metadata": {},
   "outputs": [
    {
     "data": {
      "text/plain": [
       "P.NamedParameter"
      ]
     },
     "execution_count": 19,
     "metadata": {},
     "output_type": "execute_result"
    }
   ],
   "source": [
    "P('NamedParameter')"
   ]
  },
  {
   "cell_type": "code",
   "execution_count": 20,
   "metadata": {},
   "outputs": [
    {
     "data": {
      "text/plain": [
       "X.NamedDataValue"
      ]
     },
     "execution_count": 20,
     "metadata": {},
     "output_type": "execute_result"
    }
   ],
   "source": [
    "X.NamedDataValue"
   ]
  },
  {
   "cell_type": "code",
   "execution_count": 21,
   "metadata": {},
   "outputs": [
    {
     "data": {
      "text/plain": [
       "P('Named Parameter')"
      ]
     },
     "execution_count": 21,
     "metadata": {},
     "output_type": "execute_result"
    }
   ],
   "source": [
    "P('Named Parameter')"
   ]
  },
  {
   "cell_type": "code",
   "execution_count": 22,
   "metadata": {},
   "outputs": [
    {
     "data": {
      "text/plain": [
       "X('log(INCOME)')"
      ]
     },
     "execution_count": 22,
     "metadata": {},
     "output_type": "execute_result"
    }
   ],
   "source": [
    "X(\"log(INCOME)\")"
   ]
  },
  {
   "cell_type": "code",
   "execution_count": 23,
   "metadata": {},
   "outputs": [
    {
     "data": {
      "text/html": [
       "<pre class=\"LinearFunc\"><span class=\"LinearFunc_Param\">P.InVehTime</span> * <span class=\"LinearFunc_Data\">X.AUTO_TIME</span> + <span class=\"LinearFunc_Param\">P.Cost</span> * <span class=\"LinearFunc_Data\">X.AUTO_COST</span></pre>"
      ],
      "text/plain": [
       "P.InVehTime * X.AUTO_TIME + P.Cost * X.AUTO_COST"
      ]
     },
     "execution_count": 23,
     "metadata": {},
     "output_type": "execute_result"
    }
   ],
   "source": [
    "P.InVehTime * X.AUTO_TIME + P.Cost * X.AUTO_COST"
   ]
  },
  {
   "cell_type": "code",
   "execution_count": 24,
   "metadata": {},
   "outputs": [
    {
     "data": {
      "text/html": [
       "<pre class=\"LinearFunc\"><span class=\"LinearFunc_Param\">P.ASC</span> + <span class=\"LinearFunc_Param\">P.InVehTime</span> * <span class=\"LinearFunc_Data\">X.AUTO_TIME</span> + <span class=\"LinearFunc_Param\">P.Cost</span> * <span class=\"LinearFunc_Data\">X.AUTO_COST</span></pre>"
      ],
      "text/plain": [
       "P.ASC + P.InVehTime * X.AUTO_TIME + P.Cost * X.AUTO_COST"
      ]
     },
     "execution_count": 24,
     "metadata": {},
     "output_type": "execute_result"
    }
   ],
   "source": [
    "P.ASC + P.InVehTime * X.AUTO_TIME + P.Cost * X.AUTO_COST"
   ]
  },
  {
   "cell_type": "code",
   "execution_count": 25,
   "metadata": {},
   "outputs": [],
   "source": [
    "m.utility_co[DA] = (\n",
    "        + P.InVehTime * X.AUTO_TIME\n",
    "        + P.Cost * X.AUTO_COST # dollars per mile\n",
    ")\n",
    "\n",
    "m.utility_co[SR] = (\n",
    "        + P.ASC_SR\n",
    "        + P.InVehTime * X.AUTO_TIME\n",
    "        + P.Cost * (X.AUTO_COST * 0.5) # dollars per mile, half share\n",
    "        + P(\"LogIncome:SR\") * X(\"log(INCOME)\")\n",
    ")\n",
    "\n",
    "m.utility_co[Walk] = (\n",
    "        + P.ASC_Walk\n",
    "        + P.NonMotorTime * X.WALK_TIME\n",
    "        + P(\"LogIncome:Walk\") * X(\"log(INCOME)\")\n",
    ")\n",
    "\n",
    "m.utility_co[Bike] = (\n",
    "        + P.ASC_Bike\n",
    "        + P.NonMotorTime * X.BIKE_TIME\n",
    "        + P(\"LogIncome:Bike\") * X(\"log(INCOME)\")\n",
    ")\n",
    "\n",
    "m.utility_co[Transit] = (\n",
    "        + P.ASC_Transit\n",
    "        + P.InVehTime * X.TRANSIT_IVTT\n",
    "        + P.OutVehTime * X.TRANSIT_OVTT\n",
    "        + P.Cost * X.TRANSIT_FARE\n",
    "        + P(\"LogIncome:Transit\") * X('log(INCOME)')\n",
    ")"
   ]
  },
  {
   "cell_type": "code",
   "execution_count": 26,
   "metadata": {},
   "outputs": [],
   "source": [
    "Car = m.graph.new_node(parameter='Mu:Car', children=[DA,SR], name='Car')\n",
    "NonMotor = m.graph.new_node(parameter='Mu:NonMotor', children=[Walk,Bike], name='NonMotor')\n",
    "Motor = m.graph.new_node(parameter='Mu:Motor', children=[Car,Transit], name='Motor')"
   ]
  },
  {
   "cell_type": "code",
   "execution_count": 27,
   "metadata": {},
   "outputs": [
    {
     "data": {
      "text/html": [
       "<div xmlns=\"http://www.w3.org/2000/svg\"><svg height=\"276pt\" viewBox=\"0.00 0.00 473.00 276.00\" width=\"473pt\">\n",
       "<g class=\"graph\" id=\"graph0\" transform=\"scale(1 1) rotate(0) translate(4 272)\">\n",
       "<polygon fill=\"white\" points=\"-4,4 -4,-272 469,-272 469,4 -4,4\" stroke=\"transparent\"></polygon>\n",
       "<g class=\"cluster\" id=\"clust1\">\n",
       "<title>cluster_elemental</title>\n",
       "<path d=\"M20,-8C20,-8 445,-8 445,-8 451,-8 457,-14 457,-20 457,-20 457,-48 457,-48 457,-54 451,-60 445,-60 445,-60 20,-60 20,-60 14,-60 8,-54 8,-48 8,-48 8,-20 8,-20 8,-14 14,-8 20,-8\" fill=\"lightgrey\" stroke=\"white\"></path>\n",
       "</g>\n",
       "\n",
       "<g class=\"node\" id=\"node1\">\n",
       "<title>0</title>\n",
       "<polygon fill=\"none\" points=\"168,-244.44 195,-232 222,-244.44 221.97,-264.56 168.03,-264.56 168,-244.44\" stroke=\"black\"></polygon>\n",
       "<text font-family=\"Times,serif\" font-size=\"14.00\" text-anchor=\"middle\" x=\"195\" y=\"-246.3\">0</text>\n",
       "</g>\n",
       "\n",
       "<g class=\"node\" id=\"node8\">\n",
       "<title>7</title>\n",
       "<path d=\"M175.5,-124C175.5,-124 112.5,-124 112.5,-124 106.5,-124 100.5,-118 100.5,-112 100.5,-112 100.5,-100 100.5,-100 100.5,-94 106.5,-88 112.5,-88 112.5,-88 175.5,-88 175.5,-88 181.5,-88 187.5,-94 187.5,-100 187.5,-100 187.5,-112 187.5,-112 187.5,-118 181.5,-124 175.5,-124\" fill=\"none\" stroke=\"black\"></path>\n",
       "<text fill=\"#999999\" font-family=\"Times,serif\" font-size=\"9.00\" text-anchor=\"start\" x=\"108.5\" y=\"-107.3\">(7) </text>\n",
       "<text font-family=\"Times,serif\" font-size=\"14.00\" text-anchor=\"start\" x=\"121.5\" y=\"-107.3\">NonMotor</text>\n",
       "<text fill=\"#999999\" font-family=\"Times,serif\" font-size=\"9.00\" font-style=\"italic\" text-anchor=\"start\" x=\"117.5\" y=\"-97.3\">Mu:NonMotor</text>\n",
       "</g>\n",
       "\n",
       "<g class=\"edge\" id=\"edge1\">\n",
       "<title>0-&gt;7</title>\n",
       "<path d=\"M189.73,-234.34C181.27,-210.76 164.49,-164.04 153.78,-134.22\" fill=\"none\" stroke=\"black\"></path>\n",
       "<polygon fill=\"black\" points=\"156.94,-132.67 150.26,-124.44 150.35,-135.04 156.94,-132.67\" stroke=\"black\"></polygon>\n",
       "</g>\n",
       "\n",
       "<g class=\"node\" id=\"node9\">\n",
       "<title>8</title>\n",
       "<path d=\"M265,-196C265,-196 225,-196 225,-196 219,-196 213,-190 213,-184 213,-184 213,-172 213,-172 213,-166 219,-160 225,-160 225,-160 265,-160 265,-160 271,-160 277,-166 277,-172 277,-172 277,-184 277,-184 277,-190 271,-196 265,-196\" fill=\"none\" stroke=\"black\"></path>\n",
       "<text fill=\"#999999\" font-family=\"Times,serif\" font-size=\"9.00\" text-anchor=\"start\" x=\"221\" y=\"-179.3\">(8) </text>\n",
       "<text font-family=\"Times,serif\" font-size=\"14.00\" text-anchor=\"start\" x=\"234\" y=\"-179.3\">Motor</text>\n",
       "<text fill=\"#999999\" font-family=\"Times,serif\" font-size=\"9.00\" font-style=\"italic\" text-anchor=\"start\" x=\"226\" y=\"-169.3\">Mu:Motor</text>\n",
       "</g>\n",
       "\n",
       "<g class=\"edge\" id=\"edge2\">\n",
       "<title>0-&gt;8</title>\n",
       "<path d=\"M204.17,-236.16C210.49,-227.32 219.1,-215.26 226.78,-204.51\" fill=\"none\" stroke=\"black\"></path>\n",
       "<polygon fill=\"black\" points=\"229.72,-206.41 232.68,-196.24 224.02,-202.34 229.72,-206.41\" stroke=\"black\"></polygon>\n",
       "</g>\n",
       "\n",
       "<g class=\"node\" id=\"node2\">\n",
       "<title>1</title>\n",
       "<ellipse cx=\"339\" cy=\"-34\" fill=\"white\" rx=\"31.7\" ry=\"18\" stroke=\"black\"></ellipse>\n",
       "<text fill=\"#999999\" font-family=\"Times,serif\" font-size=\"9.00\" text-anchor=\"start\" x=\"322.5\" y=\"-31.3\">(1) </text>\n",
       "<text font-family=\"Times,serif\" font-size=\"14.00\" text-anchor=\"start\" x=\"335.5\" y=\"-31.3\">DA</text>\n",
       "</g>\n",
       "\n",
       "<g class=\"node\" id=\"node3\">\n",
       "<title>2</title>\n",
       "<ellipse cx=\"419\" cy=\"-34\" fill=\"white\" rx=\"29.8\" ry=\"18\" stroke=\"black\"></ellipse>\n",
       "<text fill=\"#999999\" font-family=\"Times,serif\" font-size=\"9.00\" text-anchor=\"start\" x=\"404\" y=\"-31.3\">(2) </text>\n",
       "<text font-family=\"Times,serif\" font-size=\"14.00\" text-anchor=\"start\" x=\"417\" y=\"-31.3\">SR</text>\n",
       "</g>\n",
       "\n",
       "<g class=\"node\" id=\"node4\">\n",
       "<title>3</title>\n",
       "<ellipse cx=\"144\" cy=\"-34\" fill=\"white\" rx=\"38.19\" ry=\"18\" stroke=\"black\"></ellipse>\n",
       "<text fill=\"#999999\" font-family=\"Times,serif\" font-size=\"9.00\" text-anchor=\"start\" x=\"122.5\" y=\"-31.3\">(3) </text>\n",
       "<text font-family=\"Times,serif\" font-size=\"14.00\" text-anchor=\"start\" x=\"135.5\" y=\"-31.3\">Walk</text>\n",
       "</g>\n",
       "\n",
       "<g class=\"node\" id=\"node5\">\n",
       "<title>4</title>\n",
       "<ellipse cx=\"52\" cy=\"-34\" fill=\"white\" rx=\"36\" ry=\"18\" stroke=\"black\"></ellipse>\n",
       "<text fill=\"#999999\" font-family=\"Times,serif\" font-size=\"9.00\" text-anchor=\"start\" x=\"32.5\" y=\"-31.3\">(4) </text>\n",
       "<text font-family=\"Times,serif\" font-size=\"14.00\" text-anchor=\"start\" x=\"45.5\" y=\"-31.3\">Bike</text>\n",
       "</g>\n",
       "\n",
       "<g class=\"node\" id=\"node6\">\n",
       "<title>5</title>\n",
       "<ellipse cx=\"245\" cy=\"-34\" fill=\"white\" rx=\"44.39\" ry=\"18\" stroke=\"black\"></ellipse>\n",
       "<text fill=\"#999999\" font-family=\"Times,serif\" font-size=\"9.00\" text-anchor=\"start\" x=\"219\" y=\"-31.3\">(5) </text>\n",
       "<text font-family=\"Times,serif\" font-size=\"14.00\" text-anchor=\"start\" x=\"232\" y=\"-31.3\">Transit</text>\n",
       "</g>\n",
       "\n",
       "<g class=\"node\" id=\"node7\">\n",
       "<title>6</title>\n",
       "<path d=\"M354,-124C354,-124 324,-124 324,-124 318,-124 312,-118 312,-112 312,-112 312,-100 312,-100 312,-94 318,-88 324,-88 324,-88 354,-88 354,-88 360,-88 366,-94 366,-100 366,-100 366,-112 366,-112 366,-118 360,-124 354,-124\" fill=\"none\" stroke=\"black\"></path>\n",
       "<text fill=\"#999999\" font-family=\"Times,serif\" font-size=\"9.00\" text-anchor=\"start\" x=\"322.5\" y=\"-107.3\">(6) </text>\n",
       "<text font-family=\"Times,serif\" font-size=\"14.00\" text-anchor=\"start\" x=\"335.5\" y=\"-107.3\">Car</text>\n",
       "<text fill=\"#999999\" font-family=\"Times,serif\" font-size=\"9.00\" font-style=\"italic\" text-anchor=\"start\" x=\"324\" y=\"-97.3\">Mu:Car</text>\n",
       "</g>\n",
       "\n",
       "<g class=\"edge\" id=\"edge3\">\n",
       "<title>6-&gt;1</title>\n",
       "<path d=\"M339,-87.7C339,-79.98 339,-70.71 339,-62.11\" fill=\"none\" stroke=\"black\"></path>\n",
       "<polygon fill=\"black\" points=\"342.5,-62.1 339,-52.1 335.5,-62.1 342.5,-62.1\" stroke=\"black\"></polygon>\n",
       "</g>\n",
       "\n",
       "<g class=\"edge\" id=\"edge4\">\n",
       "<title>6-&gt;2</title>\n",
       "<path d=\"M358.78,-87.7C369.75,-78.09 383.49,-66.07 395.07,-55.94\" fill=\"none\" stroke=\"black\"></path>\n",
       "<polygon fill=\"black\" points=\"397.46,-58.5 402.68,-49.28 392.85,-53.23 397.46,-58.5\" stroke=\"black\"></polygon>\n",
       "</g>\n",
       "\n",
       "<g class=\"edge\" id=\"edge5\">\n",
       "<title>7-&gt;3</title>\n",
       "<path d=\"M144,-87.7C144,-79.98 144,-70.71 144,-62.11\" fill=\"none\" stroke=\"black\"></path>\n",
       "<polygon fill=\"black\" points=\"147.5,-62.1 144,-52.1 140.5,-62.1 147.5,-62.1\" stroke=\"black\"></polygon>\n",
       "</g>\n",
       "\n",
       "<g class=\"edge\" id=\"edge6\">\n",
       "<title>7-&gt;4</title>\n",
       "<path d=\"M121.26,-87.7C108.48,-77.97 92.45,-65.78 79.03,-55.57\" fill=\"none\" stroke=\"black\"></path>\n",
       "<polygon fill=\"black\" points=\"81.15,-52.78 71.07,-49.51 76.91,-58.35 81.15,-52.78\" stroke=\"black\"></polygon>\n",
       "</g>\n",
       "\n",
       "<g class=\"edge\" id=\"edge8\">\n",
       "<title>8-&gt;5</title>\n",
       "<path d=\"M245,-159.87C245,-135.67 245,-91.21 245,-62.39\" fill=\"none\" stroke=\"black\"></path>\n",
       "<polygon fill=\"black\" points=\"248.5,-62.19 245,-52.19 241.5,-62.19 248.5,-62.19\" stroke=\"black\"></polygon>\n",
       "</g>\n",
       "\n",
       "<g class=\"edge\" id=\"edge7\">\n",
       "<title>8-&gt;6</title>\n",
       "<path d=\"M268.24,-159.7C280.19,-150.8 294.92,-139.82 307.85,-130.2\" fill=\"none\" stroke=\"black\"></path>\n",
       "<polygon fill=\"black\" points=\"310.1,-132.88 316.03,-124.1 305.92,-127.27 310.1,-132.88\" stroke=\"black\"></polygon>\n",
       "</g>\n",
       "</g>\n",
       "</svg></div>"
      ],
      "text/plain": [
       "<larch.model.tree.NestingTree at 0x1a26d5df50>"
      ]
     },
     "execution_count": 27,
     "metadata": {},
     "output_type": "execute_result"
    }
   ],
   "source": [
    "m.graph"
   ]
  },
  {
   "cell_type": "code",
   "execution_count": 28,
   "metadata": {},
   "outputs": [],
   "source": [
    "m.choice_co_code = 'TOURMODE'"
   ]
  },
  {
   "cell_type": "code",
   "execution_count": 29,
   "metadata": {},
   "outputs": [],
   "source": [
    "m.availability_co_vars = {\n",
    "    DA: 'AGE >= 16',\n",
    "    SR: 1,\n",
    "    Walk: 'WALK_TIME < 60',\n",
    "    Bike: 'BIKE_TIME < 60',\n",
    "    Transit: 'TRANSIT_FARE>0',\n",
    "}"
   ]
  },
  {
   "cell_type": "code",
   "execution_count": 30,
   "metadata": {},
   "outputs": [],
   "source": [
    "m.load_data()"
   ]
  },
  {
   "cell_type": "code",
   "execution_count": 31,
   "metadata": {},
   "outputs": [
    {
     "data": {
      "text/html": [
       "<div>\n",
       "<style scoped>\n",
       "    .dataframe tbody tr th:only-of-type {\n",
       "        vertical-align: middle;\n",
       "    }\n",
       "\n",
       "    .dataframe tbody tr th {\n",
       "        vertical-align: top;\n",
       "    }\n",
       "\n",
       "    .dataframe thead th {\n",
       "        text-align: right;\n",
       "    }\n",
       "</style>\n",
       "<table border=\"1\" class=\"dataframe\">\n",
       "  <thead>\n",
       "    <tr style=\"text-align: right;\">\n",
       "      <th></th>\n",
       "      <th>name</th>\n",
       "      <th>chosen</th>\n",
       "      <th>available</th>\n",
       "    </tr>\n",
       "  </thead>\n",
       "  <tbody>\n",
       "    <tr>\n",
       "      <th>1</th>\n",
       "      <td>DA</td>\n",
       "      <td>6052.0</td>\n",
       "      <td>7564</td>\n",
       "    </tr>\n",
       "    <tr>\n",
       "      <th>2</th>\n",
       "      <td>SR</td>\n",
       "      <td>810.0</td>\n",
       "      <td>7564</td>\n",
       "    </tr>\n",
       "    <tr>\n",
       "      <th>3</th>\n",
       "      <td>Walk</td>\n",
       "      <td>196.0</td>\n",
       "      <td>4179</td>\n",
       "    </tr>\n",
       "    <tr>\n",
       "      <th>4</th>\n",
       "      <td>Bike</td>\n",
       "      <td>72.0</td>\n",
       "      <td>7564</td>\n",
       "    </tr>\n",
       "    <tr>\n",
       "      <th>5</th>\n",
       "      <td>Transit</td>\n",
       "      <td>434.0</td>\n",
       "      <td>4199</td>\n",
       "    </tr>\n",
       "    <tr>\n",
       "      <th>&lt; Total All Alternatives &gt;</th>\n",
       "      <td></td>\n",
       "      <td>7564.0</td>\n",
       "      <td></td>\n",
       "    </tr>\n",
       "  </tbody>\n",
       "</table>\n",
       "</div>"
      ],
      "text/plain": [
       "                               name  chosen available\n",
       "1                                DA  6052.0      7564\n",
       "2                                SR   810.0      7564\n",
       "3                              Walk   196.0      4179\n",
       "4                              Bike    72.0      7564\n",
       "5                           Transit   434.0      4199\n",
       "< Total All Alternatives >           7564.0          "
      ]
     },
     "execution_count": 31,
     "metadata": {},
     "output_type": "execute_result"
    }
   ],
   "source": [
    "m.dataframes.choice_avail_summary()"
   ]
  },
  {
   "cell_type": "code",
   "execution_count": 32,
   "metadata": {},
   "outputs": [
    {
     "data": {
      "text/html": [
       "<div xmlns=\"http://www.w3.org/2000/svg\"><table class=\"dataframe larch_dataframe\"><thead><th></th><th>n</th><th>minimum</th><th>maximum</th><th>median</th><th>histogram</th><th>mean</th><th>stdev</th><th>zeros</th><th>positives</th><th>negatives</th><th>nonzero_minimum</th><th>nonzero_maximum</th><th>nonzero_mean</th><th>nonzero_stdev</th></thead><tbody><tr><th>AUTO_COST</th><td>7564</td><td>0.194926</td><td>4.30796</td><td>1.00945</td><td><div class=\"figure\" metadata=\"gASV9QEAAAAAAAB9lCiMC2Jpbl9oZWlnaHRzlIwcbnVtcHkuY29yZS5fbXVsdGlhcnJheV91bWF0aJSMDF9yZWNvbnN0cnVjdJSTlIwFbnVtcHmUjAduZGFycmF5lJOUSwCFlEMBYpSHlFKUKEsBSw2FlGgFjAVkdHlwZZSTlIwCaTiUSwBLAYeUUpQoSwOMATyUTk5OSv////9K/////0sAdJRiiUNoDAYAAAAAAAAGBQAAAAAAAK8FAAAAAAAAcwMAAAAAAADcAgAAAAAAAE4CAAAAAAAAyQEAAAAAAAC3AAAAAAAAABUBAAAAAAAAYQAAAAAAAAAgAAAAAAAAABUAAAAAAAAAAwAAAAAAAACUdJRijAliaW5fZWRnZXOUaARoB0sAhZRoCYeUUpQoSwFLDoWUaA6MAmY4lEsASwGHlFKUKEsDaBJOTk5K/////0r/////SwB0lGKJQ3An0omtUvPIP4sLm2OtXOA/jKLTG4Z86j/GHAZqL07yP0doIsYbXvc/x7M+Ighu/D+kfy0/+r4AQGSlO23wRgNAJMtJm+bOBUDk8FfJ3FYIQKQWZvfS3gpAZTx0JclmDUAlYoJTv+4PQPNDyMBaOxFAlHSUYowRemVyb3NfYXJlX2Ryb3BwZWSUiYwScmFuZ2VfaXNfdHJ1bmNhdGVklEsAdS4=\" range_is_truncated=\"0\" style=\"min-width:Truein\" zeros_are_dropped=\"False\"><svg height=\"20.571429pt\" version=\"1.1\" viewBox=\"0 0 72 20.571429\" width=\"72pt\">\n",
       " <defs>\n",
       "  <style type=\"text/css\">\n",
       "*{stroke-linecap:butt;stroke-linejoin:round;}\n",
       "  </style>\n",
       " </defs>\n",
       " <g id=\"figure_1\">\n",
       "  <title></title><g id=\"patch_1\">\n",
       "   <path d=\"M 0 20.571429  L 72 20.571429  L 72 0  L 0 0  z \" style=\"fill:none;\"></path>\n",
       "  </g>\n",
       "  <g id=\"axes_1\">\n",
       "   <g id=\"patch_2\">\n",
       "    <path clip-path=\"url(#p759473581d)\" d=\"M 3.272727 20.571429  L 8.307692 20.571429  L 8.307692 0.979592  L 3.272727 0.979592  z \" style=\"fill:#1d8bcc;\"></path>\n",
       "   </g>\n",
       "   <g id=\"patch_3\">\n",
       "    <path clip-path=\"url(#p759473581d)\" d=\"M 8.307692 20.571429  L 13.342657 20.571429  L 13.342657 4.295523  L 8.307692 4.295523  z \" style=\"fill:#1d8bcc;\"></path>\n",
       "   </g>\n",
       "   <g id=\"patch_4\">\n",
       "    <path clip-path=\"url(#p759473581d)\" d=\"M 13.342657 20.571429  L 18.377622 20.571429  L 18.377622 2.156621  L 13.342657 2.156621  z \" style=\"fill:#1d8bcc;\"></path>\n",
       "   </g>\n",
       "   <g id=\"patch_5\">\n",
       "    <path clip-path=\"url(#p759473581d)\" d=\"M 18.377622 20.571429  L 23.412587 20.571429  L 23.412587 9.395982  L 18.377622 9.395982  z \" style=\"fill:#1d8bcc;\"></path>\n",
       "   </g>\n",
       "   <g id=\"patch_6\">\n",
       "    <path clip-path=\"url(#p759473581d)\" d=\"M 23.412587 20.571429  L 28.447552 20.571429  L 28.447552 11.307072  L 23.412587 11.307072  z \" style=\"fill:#1d8bcc;\"></path>\n",
       "   </g>\n",
       "   <g id=\"patch_7\">\n",
       "    <path clip-path=\"url(#p759473581d)\" d=\"M 28.447552 20.571429  L 33.482517 20.571429  L 33.482517 13.104256  L 28.447552 13.104256  z \" style=\"fill:#1d8bcc;\"></path>\n",
       "   </g>\n",
       "   <g id=\"patch_8\">\n",
       "    <path clip-path=\"url(#p759473581d)\" d=\"M 33.482517 20.571429  L 38.517483 20.571429  L 38.517483 14.787534  L 33.482517 14.787534  z \" style=\"fill:#1d8bcc;\"></path>\n",
       "   </g>\n",
       "   <g id=\"patch_9\">\n",
       "    <path clip-path=\"url(#p759473581d)\" d=\"M 38.517483 20.571429  L 43.552448 20.571429  L 43.552448 18.255339  L 38.517483 18.255339  z \" style=\"fill:#1d8bcc;\"></path>\n",
       "   </g>\n",
       "   <g id=\"patch_10\">\n",
       "    <path clip-path=\"url(#p759473581d)\" d=\"M 43.552448 20.571429  L 48.587413 20.571429  L 48.587413 17.065654  L 43.552448 17.065654  z \" style=\"fill:#1d8bcc;\"></path>\n",
       "   </g>\n",
       "   <g id=\"patch_11\">\n",
       "    <path clip-path=\"url(#p759473581d)\" d=\"M 48.587413 20.571429  L 53.622378 20.571429  L 53.622378 19.343775  L 48.587413 19.343775  z \" style=\"fill:#1d8bcc;\"></path>\n",
       "   </g>\n",
       "   <g id=\"patch_12\">\n",
       "    <path clip-path=\"url(#p759473581d)\" d=\"M 53.622378 20.571429  L 58.657343 20.571429  L 58.657343 20.166429  L 53.622378 20.166429  z \" style=\"fill:#1d8bcc;\"></path>\n",
       "   </g>\n",
       "   <g id=\"patch_13\">\n",
       "    <path clip-path=\"url(#p759473581d)\" d=\"M 58.657343 20.571429  L 63.692308 20.571429  L 63.692308 20.305648  L 58.657343 20.305648  z \" style=\"fill:#1d8bcc;\"></path>\n",
       "   </g>\n",
       "   <g id=\"patch_14\">\n",
       "    <path clip-path=\"url(#p759473581d)\" d=\"M 63.692308 20.571429  L 68.727273 20.571429  L 68.727273 20.53346  L 63.692308 20.53346  z \" style=\"fill:#1d8bcc;\"></path>\n",
       "   </g>\n",
       "   <g id=\"matplotlib.axis_1\"></g>\n",
       "   <g id=\"matplotlib.axis_2\"></g>\n",
       "  </g>\n",
       " </g>\n",
       " <defs>\n",
       "  <clipPath id=\"p759473581d\">\n",
       "   <rect height=\"20.571429\" width=\"72\" x=\"0\" y=\"-0\"></rect>\n",
       "  </clipPath>\n",
       " </defs>\n",
       "</svg></div></td><td>1.20601</td><td>0.754844</td><td>0</td><td>7564</td><td>0</td><td>0.194926</td><td>4.30796</td><td>1.20601</td><td>0.754844</td></tr><tr><th>AUTO_COST*(0.5)</th><td>7564</td><td>0.0974628</td><td>2.15398</td><td>0.504724</td><td><div class=\"figure\" metadata=\"gASV9QEAAAAAAAB9lCiMC2Jpbl9oZWlnaHRzlIwcbnVtcHkuY29yZS5fbXVsdGlhcnJheV91bWF0aJSMDF9yZWNvbnN0cnVjdJSTlIwFbnVtcHmUjAduZGFycmF5lJOUSwCFlEMBYpSHlFKUKEsBSw2FlGgFjAVkdHlwZZSTlIwCaTiUSwBLAYeUUpQoSwOMATyUTk5OSv////9K/////0sAdJRiiUNoDAYAAAAAAAAGBQAAAAAAAK8FAAAAAAAAcwMAAAAAAADcAgAAAAAAAE4CAAAAAAAAyQEAAAAAAAC3AAAAAAAAABUBAAAAAAAAYQAAAAAAAAAgAAAAAAAAABUAAAAAAAAAAwAAAAAAAACUdJRijAliaW5fZWRnZXOUaARoB0sAhZRoCYeUUpQoSwFLDoWUaA6MAmY4lEsASwGHlFKUKEsDaBJOTk5K/////0r/////SwB0lGKJQ3An0omtUvO4P4sLm2OtXNA/jKLTG4Z82j/GHAZqL07iP0doIsYbXuc/x7M+Ighu7D+kfy0/+r7wP2SlO23wRvM/JMtJm+bO9T/k8FfJ3Fb4P6QWZvfS3vo/ZTx0Jclm/T8lYoJTv+7/P/NDyMBaOwFAlHSUYowRemVyb3NfYXJlX2Ryb3BwZWSUiYwScmFuZ2VfaXNfdHJ1bmNhdGVklEsAdS4=\" range_is_truncated=\"0\" style=\"min-width:Truein\" zeros_are_dropped=\"False\"><svg height=\"20.571429pt\" version=\"1.1\" viewBox=\"0 0 72 20.571429\" width=\"72pt\">\n",
       " <defs>\n",
       "  <style type=\"text/css\">\n",
       "*{stroke-linecap:butt;stroke-linejoin:round;}\n",
       "  </style>\n",
       " </defs>\n",
       " <g id=\"figure_1\">\n",
       "  <title></title><g id=\"patch_1\">\n",
       "   <path d=\"M 0 20.571429  L 72 20.571429  L 72 0  L 0 0  z \" style=\"fill:none;\"></path>\n",
       "  </g>\n",
       "  <g id=\"axes_1\">\n",
       "   <g id=\"patch_2\">\n",
       "    <path clip-path=\"url(#p68e6aa54c0)\" d=\"M 3.272727 20.571429  L 8.307692 20.571429  L 8.307692 0.979592  L 3.272727 0.979592  z \" style=\"fill:#1d8bcc;\"></path>\n",
       "   </g>\n",
       "   <g id=\"patch_3\">\n",
       "    <path clip-path=\"url(#p68e6aa54c0)\" d=\"M 8.307692 20.571429  L 13.342657 20.571429  L 13.342657 4.295523  L 8.307692 4.295523  z \" style=\"fill:#1d8bcc;\"></path>\n",
       "   </g>\n",
       "   <g id=\"patch_4\">\n",
       "    <path clip-path=\"url(#p68e6aa54c0)\" d=\"M 13.342657 20.571429  L 18.377622 20.571429  L 18.377622 2.156621  L 13.342657 2.156621  z \" style=\"fill:#1d8bcc;\"></path>\n",
       "   </g>\n",
       "   <g id=\"patch_5\">\n",
       "    <path clip-path=\"url(#p68e6aa54c0)\" d=\"M 18.377622 20.571429  L 23.412587 20.571429  L 23.412587 9.395982  L 18.377622 9.395982  z \" style=\"fill:#1d8bcc;\"></path>\n",
       "   </g>\n",
       "   <g id=\"patch_6\">\n",
       "    <path clip-path=\"url(#p68e6aa54c0)\" d=\"M 23.412587 20.571429  L 28.447552 20.571429  L 28.447552 11.307072  L 23.412587 11.307072  z \" style=\"fill:#1d8bcc;\"></path>\n",
       "   </g>\n",
       "   <g id=\"patch_7\">\n",
       "    <path clip-path=\"url(#p68e6aa54c0)\" d=\"M 28.447552 20.571429  L 33.482517 20.571429  L 33.482517 13.104256  L 28.447552 13.104256  z \" style=\"fill:#1d8bcc;\"></path>\n",
       "   </g>\n",
       "   <g id=\"patch_8\">\n",
       "    <path clip-path=\"url(#p68e6aa54c0)\" d=\"M 33.482517 20.571429  L 38.517483 20.571429  L 38.517483 14.787534  L 33.482517 14.787534  z \" style=\"fill:#1d8bcc;\"></path>\n",
       "   </g>\n",
       "   <g id=\"patch_9\">\n",
       "    <path clip-path=\"url(#p68e6aa54c0)\" d=\"M 38.517483 20.571429  L 43.552448 20.571429  L 43.552448 18.255339  L 38.517483 18.255339  z \" style=\"fill:#1d8bcc;\"></path>\n",
       "   </g>\n",
       "   <g id=\"patch_10\">\n",
       "    <path clip-path=\"url(#p68e6aa54c0)\" d=\"M 43.552448 20.571429  L 48.587413 20.571429  L 48.587413 17.065654  L 43.552448 17.065654  z \" style=\"fill:#1d8bcc;\"></path>\n",
       "   </g>\n",
       "   <g id=\"patch_11\">\n",
       "    <path clip-path=\"url(#p68e6aa54c0)\" d=\"M 48.587413 20.571429  L 53.622378 20.571429  L 53.622378 19.343775  L 48.587413 19.343775  z \" style=\"fill:#1d8bcc;\"></path>\n",
       "   </g>\n",
       "   <g id=\"patch_12\">\n",
       "    <path clip-path=\"url(#p68e6aa54c0)\" d=\"M 53.622378 20.571429  L 58.657343 20.571429  L 58.657343 20.166429  L 53.622378 20.166429  z \" style=\"fill:#1d8bcc;\"></path>\n",
       "   </g>\n",
       "   <g id=\"patch_13\">\n",
       "    <path clip-path=\"url(#p68e6aa54c0)\" d=\"M 58.657343 20.571429  L 63.692308 20.571429  L 63.692308 20.305648  L 58.657343 20.305648  z \" style=\"fill:#1d8bcc;\"></path>\n",
       "   </g>\n",
       "   <g id=\"patch_14\">\n",
       "    <path clip-path=\"url(#p68e6aa54c0)\" d=\"M 63.692308 20.571429  L 68.727273 20.571429  L 68.727273 20.53346  L 63.692308 20.53346  z \" style=\"fill:#1d8bcc;\"></path>\n",
       "   </g>\n",
       "   <g id=\"matplotlib.axis_1\"></g>\n",
       "   <g id=\"matplotlib.axis_2\"></g>\n",
       "  </g>\n",
       " </g>\n",
       " <defs>\n",
       "  <clipPath id=\"p68e6aa54c0\">\n",
       "   <rect height=\"20.571429\" width=\"72\" x=\"0\" y=\"-0\"></rect>\n",
       "  </clipPath>\n",
       " </defs>\n",
       "</svg></div></td><td>0.603005</td><td>0.377422</td><td>0</td><td>7564</td><td>0</td><td>0.0974628</td><td>2.15398</td><td>0.603005</td><td>0.377422</td></tr><tr><th>AUTO_TIME</th><td>7564</td><td>0.930008</td><td>29.4415</td><td>7.61571</td><td><div class=\"figure\" metadata=\"gASV9QEAAAAAAAB9lCiMC2Jpbl9oZWlnaHRzlIwcbnVtcHkuY29yZS5fbXVsdGlhcnJheV91bWF0aJSMDF9yZWNvbnN0cnVjdJSTlIwFbnVtcHmUjAduZGFycmF5lJOUSwCFlEMBYpSHlFKUKEsBSw2FlGgFjAVkdHlwZZSTlIwCaTiUSwBLAYeUUpQoSwOMATyUTk5OSv////9K/////0sAdJRiiUNoMQMAAAAAAACqBQAAAAAAAIMFAAAAAAAA9wUAAAAAAABgAwAAAAAAAGoCAAAAAAAAXwEAAAAAAAAjAQAAAAAAAJsAAAAAAAAAMgAAAAAAAAAWAAAAAAAAAAYAAAAAAAAAAgAAAAAAAACUdJRijAliaW5fZWRnZXOUaARoB0sAhZRoCYeUUpQoSwFLDoWUaA6MAmY4lEsASwGHlFKUKEsDaBJOTk5K/////0r/////SwB0lGKJQ3AI1vDNoMLtPzuX2ldR/AhAenwcPv1DFUBXrUvQ0QkeQBpvPTHTZyNAiAdVer3KJ0D2n2zDpy0sQDIcQgZJSDBAaejNKr55MkCgtFlPM6s0QNeA5XOo3DZADk1xmB0OOUBGGf28kj87QHzliOEHcT1AlHSUYowRemVyb3NfYXJlX2Ryb3BwZWSUiYwScmFuZ2VfaXNfdHJ1bmNhdGVklEsAdS4=\" range_is_truncated=\"0\" style=\"min-width:Truein\" zeros_are_dropped=\"False\"><svg height=\"20.571429pt\" version=\"1.1\" viewBox=\"0 0 72 20.571429\" width=\"72pt\">\n",
       " <defs>\n",
       "  <style type=\"text/css\">\n",
       "*{stroke-linecap:butt;stroke-linejoin:round;}\n",
       "  </style>\n",
       " </defs>\n",
       " <g id=\"figure_1\">\n",
       "  <title></title><g id=\"patch_1\">\n",
       "   <path d=\"M 0 20.571429  L 72 20.571429  L 72 0  L 0 0  z \" style=\"fill:none;\"></path>\n",
       "  </g>\n",
       "  <g id=\"axes_1\">\n",
       "   <g id=\"patch_2\">\n",
       "    <path clip-path=\"url(#pa3c94dd90d)\" d=\"M 3.272727 20.571429  L 8.307692 20.571429  L 8.307692 10.08909  L 3.272727 10.08909  z \" style=\"fill:#1d8bcc;\"></path>\n",
       "   </g>\n",
       "   <g id=\"patch_3\">\n",
       "    <path clip-path=\"url(#pa3c94dd90d)\" d=\"M 8.307692 20.571429  L 13.342657 20.571429  L 13.342657 1.967523  L 8.307692 1.967523  z \" style=\"fill:#1d8bcc;\"></path>\n",
       "   </g>\n",
       "   <g id=\"patch_4\">\n",
       "    <path clip-path=\"url(#pa3c94dd90d)\" d=\"M 13.342657 20.571429  L 18.377622 20.571429  L 18.377622 2.467904  L 13.342657 2.467904  z \" style=\"fill:#1d8bcc;\"></path>\n",
       "   </g>\n",
       "   <g id=\"patch_5\">\n",
       "    <path clip-path=\"url(#pa3c94dd90d)\" d=\"M 18.377622 20.571429  L 23.412587 20.571429  L 23.412587 0.979592  L 18.377622 0.979592  z \" style=\"fill:#1d8bcc;\"></path>\n",
       "   </g>\n",
       "   <g id=\"patch_6\">\n",
       "    <path clip-path=\"url(#pa3c94dd90d)\" d=\"M 23.412587 20.571429  L 28.447552 20.571429  L 28.447552 9.486067  L 23.412587 9.486067  z \" style=\"fill:#1d8bcc;\"></path>\n",
       "   </g>\n",
       "   <g id=\"patch_7\">\n",
       "    <path clip-path=\"url(#pa3c94dd90d)\" d=\"M 28.447552 20.571429  L 33.482517 20.571429  L 33.482517 12.642316  L 28.447552 12.642316  z \" style=\"fill:#1d8bcc;\"></path>\n",
       "   </g>\n",
       "   <g id=\"patch_8\">\n",
       "    <path clip-path=\"url(#pa3c94dd90d)\" d=\"M 33.482517 20.571429  L 38.517483 20.571429  L 38.517483 16.068  L 33.482517 16.068  z \" style=\"fill:#1d8bcc;\"></path>\n",
       "   </g>\n",
       "   <g id=\"patch_9\">\n",
       "    <path clip-path=\"url(#pa3c94dd90d)\" d=\"M 38.517483 20.571429  L 43.552448 20.571429  L 43.552448 16.837817  L 38.517483 16.837817  z \" style=\"fill:#1d8bcc;\"></path>\n",
       "   </g>\n",
       "   <g id=\"patch_10\">\n",
       "    <path clip-path=\"url(#pa3c94dd90d)\" d=\"M 43.552448 20.571429  L 48.587413 20.571429  L 48.587413 18.582735  L 43.552448 18.582735  z \" style=\"fill:#1d8bcc;\"></path>\n",
       "   </g>\n",
       "   <g id=\"patch_11\">\n",
       "    <path clip-path=\"url(#pa3c94dd90d)\" d=\"M 48.587413 20.571429  L 53.622378 20.571429  L 53.622378 19.929915  L 48.587413 19.929915  z \" style=\"fill:#1d8bcc;\"></path>\n",
       "   </g>\n",
       "   <g id=\"patch_12\">\n",
       "    <path clip-path=\"url(#pa3c94dd90d)\" d=\"M 53.622378 20.571429  L 58.657343 20.571429  L 58.657343 20.289162  L 53.622378 20.289162  z \" style=\"fill:#1d8bcc;\"></path>\n",
       "   </g>\n",
       "   <g id=\"patch_13\">\n",
       "    <path clip-path=\"url(#pa3c94dd90d)\" d=\"M 58.657343 20.571429  L 63.692308 20.571429  L 63.692308 20.494447  L 58.657343 20.494447  z \" style=\"fill:#1d8bcc;\"></path>\n",
       "   </g>\n",
       "   <g id=\"patch_14\">\n",
       "    <path clip-path=\"url(#pa3c94dd90d)\" d=\"M 63.692308 20.571429  L 68.727273 20.571429  L 68.727273 20.545768  L 63.692308 20.545768  z \" style=\"fill:#1d8bcc;\"></path>\n",
       "   </g>\n",
       "   <g id=\"matplotlib.axis_1\"></g>\n",
       "   <g id=\"matplotlib.axis_2\"></g>\n",
       "  </g>\n",
       " </g>\n",
       " <defs>\n",
       "  <clipPath id=\"pa3c94dd90d\">\n",
       "   <rect height=\"20.571429\" width=\"72\" x=\"0\" y=\"-0\"></rect>\n",
       "  </clipPath>\n",
       " </defs>\n",
       "</svg></div></td><td>8.22287</td><td>4.58134</td><td>0</td><td>7564</td><td>0</td><td>0.930008</td><td>29.4415</td><td>8.22287</td><td>4.58134</td></tr><tr><th>BIKE_TIME</th><td>7564</td><td>2.78465</td><td>52.2321</td><td>13.5864</td><td><div class=\"figure\" metadata=\"gASV9QEAAAAAAAB9lCiMC2Jpbl9oZWlnaHRzlIwcbnVtcHkuY29yZS5fbXVsdGlhcnJheV91bWF0aJSMDF9yZWNvbnN0cnVjdJSTlIwFbnVtcHmUjAduZGFycmF5lJOUSwCFlEMBYpSHlFKUKEsBSw2FlGgFjAVkdHlwZZSTlIwCaTiUSwBLAYeUUpQoSwOMATyUTk5OSv////9K/////0sAdJRiiUNoGwQAAAAAAACcBQAAAAAAAMYFAAAAAAAAbAMAAAAAAABqAwAAAAAAAEcCAAAAAAAAEAIAAAAAAABCAQAAAAAAAMMAAAAAAAAAfwAAAAAAAAA9AAAAAAAAACAAAAAAAAAAAQAAAAAAAACUdJRijAliaW5fZWRnZXOUaARoB0sAhZRoCYeUUpQoSwFLDoWUaA6MAmY4lEsASwGHlFKUKEsDaBJOTk5K/////0r/////SwB0lGKJQ3DIxKiI90YGQDyAscRqWhpACk+H4qzIJED13bViJGQsQHA2cvHN/zFA5n2JsYnNNUBcxaBxRZs5QNIMuDEBaT1AJKrneF6bQEDeTfNYPIJCQJrx/jgaaURAVJUKGfhPRkAQORb51TZIQMrcIdmzHUpAlHSUYowRemVyb3NfYXJlX2Ryb3BwZWSUiYwScmFuZ2VfaXNfdHJ1bmNhdGVklEsAdS4=\" range_is_truncated=\"0\" style=\"min-width:Truein\" zeros_are_dropped=\"False\"><svg height=\"20.571429pt\" version=\"1.1\" viewBox=\"0 0 72 20.571429\" width=\"72pt\">\n",
       " <defs>\n",
       "  <style type=\"text/css\">\n",
       "*{stroke-linecap:butt;stroke-linejoin:round;}\n",
       "  </style>\n",
       " </defs>\n",
       " <g id=\"figure_1\">\n",
       "  <title></title><g id=\"patch_1\">\n",
       "   <path d=\"M 0 20.571429  L 72 20.571429  L 72 0  L 0 0  z \" style=\"fill:none;\"></path>\n",
       "  </g>\n",
       "  <g id=\"axes_1\">\n",
       "   <g id=\"patch_2\">\n",
       "    <path clip-path=\"url(#p80f257b46d)\" d=\"M 3.272727 20.571429  L 8.307692 20.571429  L 8.307692 6.63975  L 3.272727 6.63975  z \" style=\"fill:#1d8bcc;\"></path>\n",
       "   </g>\n",
       "   <g id=\"patch_3\">\n",
       "    <path clip-path=\"url(#p80f257b46d)\" d=\"M 8.307692 20.571429  L 13.342657 20.571429  L 13.342657 1.536329  L 8.307692 1.536329  z \" style=\"fill:#1d8bcc;\"></path>\n",
       "   </g>\n",
       "   <g id=\"patch_4\">\n",
       "    <path clip-path=\"url(#p80f257b46d)\" d=\"M 13.342657 20.571429  L 18.377622 20.571429  L 18.377622 0.979592  L 13.342657 0.979592  z \" style=\"fill:#1d8bcc;\"></path>\n",
       "   </g>\n",
       "   <g id=\"patch_5\">\n",
       "    <path clip-path=\"url(#p80f257b46d)\" d=\"M 18.377622 20.571429  L 23.412587 20.571429  L 23.412587 8.959487  L 18.377622 8.959487  z \" style=\"fill:#1d8bcc;\"></path>\n",
       "   </g>\n",
       "   <g id=\"patch_6\">\n",
       "    <path clip-path=\"url(#p80f257b46d)\" d=\"M 23.412587 20.571429  L 28.447552 20.571429  L 28.447552 8.985999  L 23.412587 8.985999  z \" style=\"fill:#1d8bcc;\"></path>\n",
       "   </g>\n",
       "   <g id=\"patch_7\">\n",
       "    <path clip-path=\"url(#p80f257b46d)\" d=\"M 28.447552 20.571429  L 33.482517 20.571429  L 33.482517 12.84339  L 28.447552 12.84339  z \" style=\"fill:#1d8bcc;\"></path>\n",
       "   </g>\n",
       "   <g id=\"patch_8\">\n",
       "    <path clip-path=\"url(#p80f257b46d)\" d=\"M 33.482517 20.571429  L 38.517483 20.571429  L 38.517483 13.57245  L 33.482517 13.57245  z \" style=\"fill:#1d8bcc;\"></path>\n",
       "   </g>\n",
       "   <g id=\"patch_9\">\n",
       "    <path clip-path=\"url(#p80f257b46d)\" d=\"M 38.517483 20.571429  L 43.552448 20.571429  L 43.552448 16.303112  L 38.517483 16.303112  z \" style=\"fill:#1d8bcc;\"></path>\n",
       "   </g>\n",
       "   <g id=\"patch_10\">\n",
       "    <path clip-path=\"url(#p80f257b46d)\" d=\"M 43.552448 20.571429  L 48.587413 20.571429  L 48.587413 17.986579  L 43.552448 17.986579  z \" style=\"fill:#1d8bcc;\"></path>\n",
       "   </g>\n",
       "   <g id=\"patch_11\">\n",
       "    <path clip-path=\"url(#p80f257b46d)\" d=\"M 48.587413 20.571429  L 53.622378 20.571429  L 53.622378 18.887962  L 48.587413 18.887962  z \" style=\"fill:#1d8bcc;\"></path>\n",
       "   </g>\n",
       "   <g id=\"patch_12\">\n",
       "    <path clip-path=\"url(#p80f257b46d)\" d=\"M 53.622378 20.571429  L 58.657343 20.571429  L 58.657343 19.762834  L 53.622378 19.762834  z \" style=\"fill:#1d8bcc;\"></path>\n",
       "   </g>\n",
       "   <g id=\"patch_13\">\n",
       "    <path clip-path=\"url(#p80f257b46d)\" d=\"M 58.657343 20.571429  L 63.692308 20.571429  L 63.692308 20.147248  L 58.657343 20.147248  z \" style=\"fill:#1d8bcc;\"></path>\n",
       "   </g>\n",
       "   <g id=\"patch_14\">\n",
       "    <path clip-path=\"url(#p80f257b46d)\" d=\"M 63.692308 20.571429  L 68.727273 20.571429  L 68.727273 20.558173  L 63.692308 20.558173  z \" style=\"fill:#1d8bcc;\"></path>\n",
       "   </g>\n",
       "   <g id=\"matplotlib.axis_1\"></g>\n",
       "   <g id=\"matplotlib.axis_2\"></g>\n",
       "  </g>\n",
       " </g>\n",
       " <defs>\n",
       "  <clipPath id=\"p80f257b46d\">\n",
       "   <rect height=\"20.571429\" width=\"72\" x=\"0\" y=\"-0\"></rect>\n",
       "  </clipPath>\n",
       " </defs>\n",
       "</svg></div></td><td>15.9827</td><td>9.29732</td><td>0</td><td>7564</td><td>0</td><td>2.78465</td><td>52.2321</td><td>15.9827</td><td>9.29732</td></tr><tr><th>TRANSIT_FARE</th><td>7564</td><td>0</td><td>2.5</td><td>2.5</td><td><div class=\"figure\" metadata=\"gASVIAEAAAAAAAB9lCiMC2Jpbl9oZWlnaHRzlIwcbnVtcHkuY29yZS5fbXVsdGlhcnJheV91bWF0aJSMDF9yZWNvbnN0cnVjdJSTlIwFbnVtcHmUjAduZGFycmF5lJOUSwCFlEMBYpSHlFKUKEsBSwKFlGgFjAVkdHlwZZSTlIwCaTiUSwBLAYeUUpQoSwOMATyUTk5OSv////9K/////0sAdJRiiUMQJQ0AAAAAAABnEAAAAAAAAJR0lGKMCWJpbl9lZGdlc5RoBGgHSwCFlGgJh5RSlChLAUsDhZRoEYlDGAAAAAAAAAAAAQAAAAAAAAACAAAAAAAAAJR0lGKMEXplcm9zX2FyZV9kcm9wcGVklImMEnJhbmdlX2lzX3RydW5jYXRlZJSJdS4=\" range_is_truncated=\"False\" style=\"min-width:Truein\" zeros_are_dropped=\"False\"><svg height=\"20.571429pt\" version=\"1.1\" viewBox=\"0 0 72 20.571429\" width=\"72pt\">\n",
       " <defs>\n",
       "  <style type=\"text/css\">\n",
       "*{stroke-linecap:butt;stroke-linejoin:round;}\n",
       "  </style>\n",
       " </defs>\n",
       " <g id=\"figure_1\">\n",
       "  <title>Histograms are purple if the data is represented as discrete values.</title><g id=\"patch_1\">\n",
       "   <path d=\"M 0 20.571429  L 72 20.571429  L 72 0  L 0 0  z \" style=\"fill:none;\"></path>\n",
       "  </g>\n",
       "  <g id=\"axes_1\">\n",
       "   <g id=\"patch_2\">\n",
       "    <path clip-path=\"url(#p78cfbb605b)\" d=\"M 3.272727 20.571429  L 32.363636 20.571429  L 32.363636 4.870897  L 3.272727 4.870897  z \" style=\"fill:#6478ba;\"></path>\n",
       "   </g>\n",
       "   <g id=\"patch_3\">\n",
       "    <path clip-path=\"url(#p78cfbb605b)\" d=\"M 39.636364 20.571429  L 68.727273 20.571429  L 68.727273 0.979592  L 39.636364 0.979592  z \" style=\"fill:#6478ba;\"></path>\n",
       "   </g>\n",
       "   <g id=\"matplotlib.axis_1\"></g>\n",
       "   <g id=\"matplotlib.axis_2\"></g>\n",
       "  </g>\n",
       " </g>\n",
       " <defs>\n",
       "  <clipPath id=\"p78cfbb605b\">\n",
       "   <rect height=\"20.571429\" width=\"72\" x=\"0\" y=\"-0\"></rect>\n",
       "  </clipPath>\n",
       " </defs>\n",
       "</svg></div></td><td>1.38782</td><td>1.24238</td><td>3365</td><td>4199</td><td>0</td><td>2.5</td><td>2.5</td><td>2.5</td><td>0</td></tr><tr><th>TRANSIT_IVTT</th><td>7564</td><td>0</td><td>12.1668</td><td>1.44769</td><td><div class=\"figure\" metadata=\"gASV9QEAAAAAAAB9lCiMC2Jpbl9oZWlnaHRzlIwcbnVtcHkuY29yZS5fbXVsdGlhcnJheV91bWF0aJSMDF9yZWNvbnN0cnVjdJSTlIwFbnVtcHmUjAduZGFycmF5lJOUSwCFlEMBYpSHlFKUKEsBSw2FlGgFjAVkdHlwZZSTlIwCaTiUSwBLAYeUUpQoSwOMATyUTk5OSv////9K/////0sAdJRiiUNo6QMAAAAAAABLAQAAAAAAALACAAAAAAAAEAEAAAAAAAA5AQAAAAAAAJ0BAAAAAAAAkwAAAAAAAAAgAQAAAAAAAD4AAAAAAAAAvwAAAAAAAABOAAAAAAAAALMAAAAAAAAA7AAAAAAAAACUdJRijAliaW5fZWRnZXOUaARoB0sAhZRoCYeUUpQoSwFLDoWUaA6MAmY4lEsASwGHlFKUKEsDaBJOTk5K/////0r/////SwB0lGKJQ3Dt6g9Cw7LuP54jEPCaJP0/4iiMH+p3BUD1PxDHhl0MQIUrSreRoRFADzcMC2AUFUCYQs5eLocYQCJOkLL8+RtArFlSBstsH0CbMgqtzG8hQGA469YzKSNAJT7MAJviJEDpQ60qApwmQK5JjlRpVShAlHSUYowRemVyb3NfYXJlX2Ryb3BwZWSUiIwScmFuZ2VfaXNfdHJ1bmNhdGVklEsAdS4=\" range_is_truncated=\"0\" style=\"min-width:Truein\" zeros_are_dropped=\"True\"><svg height=\"20.571429pt\" version=\"1.1\" viewBox=\"0 0 72 20.571429\" width=\"72pt\">\n",
       " <defs>\n",
       "  <style type=\"text/css\">\n",
       "*{stroke-linecap:butt;stroke-linejoin:round;}\n",
       "  </style>\n",
       " </defs>\n",
       " <g id=\"figure_1\">\n",
       "  <title>Histograms are orange if the zeros are numerous and have been excluded.</title><g id=\"patch_1\">\n",
       "   <path d=\"M 0 20.571429  L 72 20.571429  L 72 0  L 0 0  z \" style=\"fill:none;\"></path>\n",
       "  </g>\n",
       "  <g id=\"axes_1\">\n",
       "   <g id=\"patch_2\">\n",
       "    <path clip-path=\"url(#pe7e2bea87e)\" d=\"M 3.272727 20.571429  L 8.307692 20.571429  L 8.307692 0.979592  L 3.272727 0.979592  z \" style=\"fill:#f69300;\"></path>\n",
       "   </g>\n",
       "   <g id=\"patch_3\">\n",
       "    <path clip-path=\"url(#pe7e2bea87e)\" d=\"M 8.307692 20.571429  L 13.342657 20.571429  L 13.342657 14.093009  L 8.307692 14.093009  z \" style=\"fill:#f69300;\"></path>\n",
       "   </g>\n",
       "   <g id=\"patch_4\">\n",
       "    <path clip-path=\"url(#pe7e2bea87e)\" d=\"M 13.342657 20.571429  L 18.377622 20.571429  L 18.377622 7.105711  L 13.342657 7.105711  z \" style=\"fill:#f69300;\"></path>\n",
       "   </g>\n",
       "   <g id=\"patch_5\">\n",
       "    <path clip-path=\"url(#pe7e2bea87e)\" d=\"M 18.377622 20.571429  L 23.412587 20.571429  L 23.412587 15.247773  L 18.377622 15.247773  z \" style=\"fill:#f69300;\"></path>\n",
       "   </g>\n",
       "   <g id=\"patch_6\">\n",
       "    <path clip-path=\"url(#pe7e2bea87e)\" d=\"M 23.412587 20.571429  L 28.447552 20.571429  L 28.447552 14.44531  L 23.412587 14.44531  z \" style=\"fill:#f69300;\"></path>\n",
       "   </g>\n",
       "   <g id=\"patch_7\">\n",
       "    <path clip-path=\"url(#pe7e2bea87e)\" d=\"M 28.447552 20.571429  L 33.482517 20.571429  L 33.482517 12.488083  L 28.447552 12.488083  z \" style=\"fill:#f69300;\"></path>\n",
       "   </g>\n",
       "   <g id=\"patch_8\">\n",
       "    <path clip-path=\"url(#pe7e2bea87e)\" d=\"M 33.482517 20.571429  L 38.517483 20.571429  L 38.517483 17.694306  L 33.482517 17.694306  z \" style=\"fill:#f69300;\"></path>\n",
       "   </g>\n",
       "   <g id=\"patch_9\">\n",
       "    <path clip-path=\"url(#pe7e2bea87e)\" d=\"M 38.517483 20.571429  L 43.552448 20.571429  L 43.552448 14.934616  L 38.517483 14.934616  z \" style=\"fill:#f69300;\"></path>\n",
       "   </g>\n",
       "   <g id=\"patch_10\">\n",
       "    <path clip-path=\"url(#pe7e2bea87e)\" d=\"M 43.552448 20.571429  L 48.587413 20.571429  L 48.587413 19.357948  L 43.552448 19.357948  z \" style=\"fill:#f69300;\"></path>\n",
       "   </g>\n",
       "   <g id=\"patch_11\">\n",
       "    <path clip-path=\"url(#pe7e2bea87e)\" d=\"M 48.587413 20.571429  L 53.622378 20.571429  L 53.622378 16.833126  L 48.587413 16.833126  z \" style=\"fill:#f69300;\"></path>\n",
       "   </g>\n",
       "   <g id=\"patch_12\">\n",
       "    <path clip-path=\"url(#pe7e2bea87e)\" d=\"M 53.622378 20.571429  L 58.657343 20.571429  L 58.657343 19.044792  L 53.622378 19.044792  z \" style=\"fill:#f69300;\"></path>\n",
       "   </g>\n",
       "   <g id=\"patch_13\">\n",
       "    <path clip-path=\"url(#pe7e2bea87e)\" d=\"M 58.657343 20.571429  L 63.692308 20.571429  L 63.692308 17.067993  L 58.657343 17.067993  z \" style=\"fill:#f69300;\"></path>\n",
       "   </g>\n",
       "   <g id=\"patch_14\">\n",
       "    <path clip-path=\"url(#pe7e2bea87e)\" d=\"M 63.692308 20.571429  L 68.727273 20.571429  L 68.727273 15.952374  L 63.692308 15.952374  z \" style=\"fill:#f69300;\"></path>\n",
       "   </g>\n",
       "   <g id=\"matplotlib.axis_1\"></g>\n",
       "   <g id=\"matplotlib.axis_2\"></g>\n",
       "  </g>\n",
       " </g>\n",
       " <defs>\n",
       "  <clipPath id=\"pe7e2bea87e\">\n",
       "   <rect height=\"20.571429\" width=\"72\" x=\"0\" y=\"-0\"></rect>\n",
       "  </clipPath>\n",
       " </defs>\n",
       "</svg></div></td><td>2.62277</td><td>3.38088</td><td>3365</td><td>4199</td><td>0</td><td>0.959322</td><td>12.1668</td><td>4.72461</td><td>3.26497</td></tr><tr><th>TRANSIT_OVTT</th><td>7564</td><td>0.759059</td><td>128.652</td><td>37.0499</td><td><div class=\"figure\" metadata=\"gASV9QEAAAAAAAB9lCiMC2Jpbl9oZWlnaHRzlIwcbnVtcHkuY29yZS5fbXVsdGlhcnJheV91bWF0aJSMDF9yZWNvbnN0cnVjdJSTlIwFbnVtcHmUjAduZGFycmF5lJOUSwCFlEMBYpSHlFKUKEsBSw2FlGgFjAVkdHlwZZSTlIwCaTiUSwBLAYeUUpQoSwOMATyUTk5OSv////9K/////0sAdJRiiUNo0wMAAAAAAAAtAwAAAAAAADUFAAAAAAAA/QMAAAAAAAB1BAAAAAAAAPIDAAAAAAAAOAIAAAAAAABsAQAAAAAAALgAAAAAAAAAdQAAAAAAAAAPAAAAAAAAAAwAAAAAAAAABwAAAAAAAACUdJRijAliaW5fZWRnZXOUaARoB0sAhZRoCYeUUpQoSwFLDoWUaA6MAmY4lEsASwGHlFKUKEsDaBJOTk5K/////0r/////SwB0lGKJQ3CU73YnNkroP1LEHMGjMSVA1gzhD1JvNECDtzM/0kU+QBcxQzcpDkRAbYbsTmn5SEDE25VmqeRNQI2YH7/0Z1FAOEP0ypTdU0Dj7cjWNFNWQI6YneLUyFhAOUNy7nQ+W0Dl7Ub6FLRdQEjMDYPaFGBAlHSUYowRemVyb3NfYXJlX2Ryb3BwZWSUiYwScmFuZ2VfaXNfdHJ1bmNhdGVklEsAdS4=\" range_is_truncated=\"0\" style=\"min-width:Truein\" zeros_are_dropped=\"False\"><svg height=\"20.571429pt\" version=\"1.1\" viewBox=\"0 0 72 20.571429\" width=\"72pt\">\n",
       " <defs>\n",
       "  <style type=\"text/css\">\n",
       "*{stroke-linecap:butt;stroke-linejoin:round;}\n",
       "  </style>\n",
       " </defs>\n",
       " <g id=\"figure_1\">\n",
       "  <title></title><g id=\"patch_1\">\n",
       "   <path d=\"M 0 20.571429  L 72 20.571429  L 72 0  L 0 0  z \" style=\"fill:none;\"></path>\n",
       "  </g>\n",
       "  <g id=\"axes_1\">\n",
       "   <g id=\"patch_2\">\n",
       "    <path clip-path=\"url(#pc16e2c398c)\" d=\"M 3.272727 20.571429  L 8.307692 20.571429  L 8.307692 6.182525  L 3.272727 6.182525  z \" style=\"fill:#1d8bcc;\"></path>\n",
       "   </g>\n",
       "   <g id=\"patch_3\">\n",
       "    <path clip-path=\"url(#pc16e2c398c)\" d=\"M 8.307692 20.571429  L 13.342657 20.571429  L 13.342657 8.622319  L 8.307692 8.622319  z \" style=\"fill:#1d8bcc;\"></path>\n",
       "   </g>\n",
       "   <g id=\"patch_4\">\n",
       "    <path clip-path=\"url(#pc16e2c398c)\" d=\"M 13.342657 20.571429  L 18.377622 20.571429  L 18.377622 0.979592  L 13.342657 0.979592  z \" style=\"fill:#1d8bcc;\"></path>\n",
       "   </g>\n",
       "   <g id=\"patch_5\">\n",
       "    <path clip-path=\"url(#pc16e2c398c)\" d=\"M 18.377622 20.571429  L 23.412587 20.571429  L 23.412587 5.565228  L 18.377622 5.565228  z \" style=\"fill:#1d8bcc;\"></path>\n",
       "   </g>\n",
       "   <g id=\"patch_6\">\n",
       "    <path clip-path=\"url(#pc16e2c398c)\" d=\"M 23.412587 20.571429  L 28.447552 20.571429  L 28.447552 3.801522  L 23.412587 3.801522  z \" style=\"fill:#1d8bcc;\"></path>\n",
       "   </g>\n",
       "   <g id=\"patch_7\">\n",
       "    <path clip-path=\"url(#pc16e2c398c)\" d=\"M 28.447552 20.571429  L 33.482517 20.571429  L 33.482517 5.726901  L 28.447552 5.726901  z \" style=\"fill:#1d8bcc;\"></path>\n",
       "   </g>\n",
       "   <g id=\"patch_8\">\n",
       "    <path clip-path=\"url(#pc16e2c398c)\" d=\"M 33.482517 20.571429  L 38.517483 20.571429  L 38.517483 12.223219  L 33.482517 12.223219  z \" style=\"fill:#1d8bcc;\"></path>\n",
       "   </g>\n",
       "   <g id=\"patch_9\">\n",
       "    <path clip-path=\"url(#pc16e2c398c)\" d=\"M 38.517483 20.571429  L 43.552448 20.571429  L 43.552448 15.22152  L 38.517483 15.22152  z \" style=\"fill:#1d8bcc;\"></path>\n",
       "   </g>\n",
       "   <g id=\"patch_10\">\n",
       "    <path clip-path=\"url(#pc16e2c398c)\" d=\"M 43.552448 20.571429  L 48.587413 20.571429  L 48.587413 17.867079  L 43.552448 17.867079  z \" style=\"fill:#1d8bcc;\"></path>\n",
       "   </g>\n",
       "   <g id=\"patch_11\">\n",
       "    <path clip-path=\"url(#pc16e2c398c)\" d=\"M 48.587413 20.571429  L 53.622378 20.571429  L 53.622378 18.851815  L 48.587413 18.851815  z \" style=\"fill:#1d8bcc;\"></path>\n",
       "   </g>\n",
       "   <g id=\"patch_12\">\n",
       "    <path clip-path=\"url(#pc16e2c398c)\" d=\"M 53.622378 20.571429  L 58.657343 20.571429  L 58.657343 20.350965  L 53.622378 20.350965  z \" style=\"fill:#1d8bcc;\"></path>\n",
       "   </g>\n",
       "   <g id=\"patch_13\">\n",
       "    <path clip-path=\"url(#pc16e2c398c)\" d=\"M 58.657343 20.571429  L 63.692308 20.571429  L 63.692308 20.395058  L 58.657343 20.395058  z \" style=\"fill:#1d8bcc;\"></path>\n",
       "   </g>\n",
       "   <g id=\"patch_14\">\n",
       "    <path clip-path=\"url(#pc16e2c398c)\" d=\"M 63.692308 20.571429  L 68.727273 20.571429  L 68.727273 20.468546  L 63.692308 20.468546  z \" style=\"fill:#1d8bcc;\"></path>\n",
       "   </g>\n",
       "   <g id=\"matplotlib.axis_1\"></g>\n",
       "   <g id=\"matplotlib.axis_2\"></g>\n",
       "  </g>\n",
       " </g>\n",
       " <defs>\n",
       "  <clipPath id=\"pc16e2c398c\">\n",
       "   <rect height=\"20.571429\" width=\"72\" x=\"0\" y=\"-0\"></rect>\n",
       "  </clipPath>\n",
       " </defs>\n",
       "</svg></div></td><td>37.6614</td><td>23.2194</td><td>0</td><td>7564</td><td>0</td><td>0.759059</td><td>128.652</td><td>37.6614</td><td>23.2194</td></tr><tr><th>WALK_TIME</th><td>7564</td><td>11.1386</td><td>208.928</td><td>54.3454</td><td><div class=\"figure\" metadata=\"gASV9QEAAAAAAAB9lCiMC2Jpbl9oZWlnaHRzlIwcbnVtcHkuY29yZS5fbXVsdGlhcnJheV91bWF0aJSMDF9yZWNvbnN0cnVjdJSTlIwFbnVtcHmUjAduZGFycmF5lJOUSwCFlEMBYpSHlFKUKEsBSw2FlGgFjAVkdHlwZZSTlIwCaTiUSwBLAYeUUpQoSwOMATyUTk5OSv////9K/////0sAdJRiiUNoGwQAAAAAAACcBQAAAAAAAMYFAAAAAAAAbAMAAAAAAABqAwAAAAAAAEcCAAAAAAAAEAIAAAAAAABCAQAAAAAAAMMAAAAAAAAAfwAAAAAAAAA9AAAAAAAAACAAAAAAAAAAAQAAAAAAAACUdJRijAliaW5fZWRnZXOUaARoB0sAhZRoCYeUUpQoSwFLDoWUaA6MAmY4lEsASwGHlFKUKEsDaBJOTk5K/////0r/////SwB0lGKJQ3DIxKiI90YmQDyAscRqWjpACk+H4qzIRED13bViJGRMQHA2cvHN/1FA5n2JsYnNVUBcxaBxRZtZQNIMuDEBaV1AJKrneF6bYEDeTfNYPIJiQJrx/jgaaWRAVJUKGfhPZkAQORb51TZoQMrcIdmzHWpAlHSUYowRemVyb3NfYXJlX2Ryb3BwZWSUiYwScmFuZ2VfaXNfdHJ1bmNhdGVklEsAdS4=\" range_is_truncated=\"0\" style=\"min-width:Truein\" zeros_are_dropped=\"False\"><svg height=\"20.571429pt\" version=\"1.1\" viewBox=\"0 0 72 20.571429\" width=\"72pt\">\n",
       " <defs>\n",
       "  <style type=\"text/css\">\n",
       "*{stroke-linecap:butt;stroke-linejoin:round;}\n",
       "  </style>\n",
       " </defs>\n",
       " <g id=\"figure_1\">\n",
       "  <title></title><g id=\"patch_1\">\n",
       "   <path d=\"M 0 20.571429  L 72 20.571429  L 72 0  L 0 0  z \" style=\"fill:none;\"></path>\n",
       "  </g>\n",
       "  <g id=\"axes_1\">\n",
       "   <g id=\"patch_2\">\n",
       "    <path clip-path=\"url(#p27608ca12e)\" d=\"M 3.272727 20.571429  L 8.307692 20.571429  L 8.307692 6.63975  L 3.272727 6.63975  z \" style=\"fill:#1d8bcc;\"></path>\n",
       "   </g>\n",
       "   <g id=\"patch_3\">\n",
       "    <path clip-path=\"url(#p27608ca12e)\" d=\"M 8.307692 20.571429  L 13.342657 20.571429  L 13.342657 1.536329  L 8.307692 1.536329  z \" style=\"fill:#1d8bcc;\"></path>\n",
       "   </g>\n",
       "   <g id=\"patch_4\">\n",
       "    <path clip-path=\"url(#p27608ca12e)\" d=\"M 13.342657 20.571429  L 18.377622 20.571429  L 18.377622 0.979592  L 13.342657 0.979592  z \" style=\"fill:#1d8bcc;\"></path>\n",
       "   </g>\n",
       "   <g id=\"patch_5\">\n",
       "    <path clip-path=\"url(#p27608ca12e)\" d=\"M 18.377622 20.571429  L 23.412587 20.571429  L 23.412587 8.959487  L 18.377622 8.959487  z \" style=\"fill:#1d8bcc;\"></path>\n",
       "   </g>\n",
       "   <g id=\"patch_6\">\n",
       "    <path clip-path=\"url(#p27608ca12e)\" d=\"M 23.412587 20.571429  L 28.447552 20.571429  L 28.447552 8.985999  L 23.412587 8.985999  z \" style=\"fill:#1d8bcc;\"></path>\n",
       "   </g>\n",
       "   <g id=\"patch_7\">\n",
       "    <path clip-path=\"url(#p27608ca12e)\" d=\"M 28.447552 20.571429  L 33.482517 20.571429  L 33.482517 12.84339  L 28.447552 12.84339  z \" style=\"fill:#1d8bcc;\"></path>\n",
       "   </g>\n",
       "   <g id=\"patch_8\">\n",
       "    <path clip-path=\"url(#p27608ca12e)\" d=\"M 33.482517 20.571429  L 38.517483 20.571429  L 38.517483 13.57245  L 33.482517 13.57245  z \" style=\"fill:#1d8bcc;\"></path>\n",
       "   </g>\n",
       "   <g id=\"patch_9\">\n",
       "    <path clip-path=\"url(#p27608ca12e)\" d=\"M 38.517483 20.571429  L 43.552448 20.571429  L 43.552448 16.303112  L 38.517483 16.303112  z \" style=\"fill:#1d8bcc;\"></path>\n",
       "   </g>\n",
       "   <g id=\"patch_10\">\n",
       "    <path clip-path=\"url(#p27608ca12e)\" d=\"M 43.552448 20.571429  L 48.587413 20.571429  L 48.587413 17.986579  L 43.552448 17.986579  z \" style=\"fill:#1d8bcc;\"></path>\n",
       "   </g>\n",
       "   <g id=\"patch_11\">\n",
       "    <path clip-path=\"url(#p27608ca12e)\" d=\"M 48.587413 20.571429  L 53.622378 20.571429  L 53.622378 18.887962  L 48.587413 18.887962  z \" style=\"fill:#1d8bcc;\"></path>\n",
       "   </g>\n",
       "   <g id=\"patch_12\">\n",
       "    <path clip-path=\"url(#p27608ca12e)\" d=\"M 53.622378 20.571429  L 58.657343 20.571429  L 58.657343 19.762834  L 53.622378 19.762834  z \" style=\"fill:#1d8bcc;\"></path>\n",
       "   </g>\n",
       "   <g id=\"patch_13\">\n",
       "    <path clip-path=\"url(#p27608ca12e)\" d=\"M 58.657343 20.571429  L 63.692308 20.571429  L 63.692308 20.147248  L 58.657343 20.147248  z \" style=\"fill:#1d8bcc;\"></path>\n",
       "   </g>\n",
       "   <g id=\"patch_14\">\n",
       "    <path clip-path=\"url(#p27608ca12e)\" d=\"M 63.692308 20.571429  L 68.727273 20.571429  L 68.727273 20.558173  L 63.692308 20.558173  z \" style=\"fill:#1d8bcc;\"></path>\n",
       "   </g>\n",
       "   <g id=\"matplotlib.axis_1\"></g>\n",
       "   <g id=\"matplotlib.axis_2\"></g>\n",
       "  </g>\n",
       " </g>\n",
       " <defs>\n",
       "  <clipPath id=\"p27608ca12e\">\n",
       "   <rect height=\"20.571429\" width=\"72\" x=\"0\" y=\"-0\"></rect>\n",
       "  </clipPath>\n",
       " </defs>\n",
       "</svg></div></td><td>63.9308</td><td>37.1893</td><td>0</td><td>7564</td><td>0</td><td>11.1386</td><td>208.928</td><td>63.9308</td><td>37.1893</td></tr><tr><th>log(INCOME)</th><td>7564</td><td>7.59035</td><td>14.2181</td><td>10.6719</td><td><div class=\"figure\" metadata=\"gASV9QEAAAAAAAB9lCiMC2Jpbl9oZWlnaHRzlIwcbnVtcHkuY29yZS5fbXVsdGlhcnJheV91bWF0aJSMDF9yZWNvbnN0cnVjdJSTlIwFbnVtcHmUjAduZGFycmF5lJOUSwCFlEMBYpSHlFKUKEsBSw2FlGgFjAVkdHlwZZSTlIwCaTiUSwBLAYeUUpQoSwOMATyUTk5OSv////9K/////0sAdJRiiUNoBQAAAAAAAAAQAAAAAAAAADUAAAAAAAAA4gAAAAAAAAD7CQAAAAAAAFsDAAAAAAAAHgQAAAAAAABJBAAAAAAAADADAAAAAAAABQIAAAAAAADXAAAAAAAAAHQAAAAAAAAAIwAAAAAAAACUdJRijAliaW5fZWRnZXOUaARoB0sAhZRoCYeUUpQoSwFLDoWUaA6MAmY4lEsASwGHlFKUKEsDaBJOTk5K/////0r/////SwB0lGKJQ3BEoOLog1weQKrhJItJMyBAM3PYIVE4IUC7BIy4WD0iQEOWP09gQiNAzCfz5WdHJEBUuaZ8b0wlQNxKWhN3USZAZNwNqn5WJ0DtbcFAhlsoQHX/dNeNYClA/pAobpVlKkCGItwEnWorQA60j5ukbyxAlHSUYowRemVyb3NfYXJlX2Ryb3BwZWSUiYwScmFuZ2VfaXNfdHJ1bmNhdGVklEsAdS4=\" range_is_truncated=\"0\" style=\"min-width:Truein\" zeros_are_dropped=\"False\"><svg height=\"20.571429pt\" version=\"1.1\" viewBox=\"0 0 72 20.571429\" width=\"72pt\">\n",
       " <defs>\n",
       "  <style type=\"text/css\">\n",
       "*{stroke-linecap:butt;stroke-linejoin:round;}\n",
       "  </style>\n",
       " </defs>\n",
       " <g id=\"figure_1\">\n",
       "  <title></title><g id=\"patch_1\">\n",
       "   <path d=\"M 0 20.571429  L 72 20.571429  L 72 0  L 0 0  z \" style=\"fill:none;\"></path>\n",
       "  </g>\n",
       "  <g id=\"axes_1\">\n",
       "   <g id=\"patch_2\">\n",
       "    <path clip-path=\"url(#pe53f83db1e)\" d=\"M 3.272727 20.571429  L 8.307692 20.571429  L 8.307692 20.533088  L 3.272727 20.533088  z \" style=\"fill:#1d8bcc;\"></path>\n",
       "   </g>\n",
       "   <g id=\"patch_3\">\n",
       "    <path clip-path=\"url(#pe53f83db1e)\" d=\"M 8.307692 20.571429  L 13.342657 20.571429  L 13.342657 20.44874  L 8.307692 20.44874  z \" style=\"fill:#1d8bcc;\"></path>\n",
       "   </g>\n",
       "   <g id=\"patch_4\">\n",
       "    <path clip-path=\"url(#pe53f83db1e)\" d=\"M 13.342657 20.571429  L 18.377622 20.571429  L 18.377622 20.165023  L 13.342657 20.165023  z \" style=\"fill:#1d8bcc;\"></path>\n",
       "   </g>\n",
       "   <g id=\"patch_5\">\n",
       "    <path clip-path=\"url(#pe53f83db1e)\" d=\"M 18.377622 20.571429  L 23.412587 20.571429  L 23.412587 18.838452  L 18.377622 18.838452  z \" style=\"fill:#1d8bcc;\"></path>\n",
       "   </g>\n",
       "   <g id=\"patch_6\">\n",
       "    <path clip-path=\"url(#pe53f83db1e)\" d=\"M 23.412587 20.571429  L 28.447552 20.571429  L 28.447552 0.979592  L 23.412587 0.979592  z \" style=\"fill:#1d8bcc;\"></path>\n",
       "   </g>\n",
       "   <g id=\"patch_7\">\n",
       "    <path clip-path=\"url(#pe53f83db1e)\" d=\"M 28.447552 20.571429  L 33.482517 20.571429  L 33.482517 13.984584  L 28.447552 13.984584  z \" style=\"fill:#1d8bcc;\"></path>\n",
       "   </g>\n",
       "   <g id=\"patch_8\">\n",
       "    <path clip-path=\"url(#pe53f83db1e)\" d=\"M 33.482517 20.571429  L 38.517483 20.571429  L 38.517483 12.489317  L 33.482517 12.489317  z \" style=\"fill:#1d8bcc;\"></path>\n",
       "   </g>\n",
       "   <g id=\"patch_9\">\n",
       "    <path clip-path=\"url(#pe53f83db1e)\" d=\"M 38.517483 20.571429  L 43.552448 20.571429  L 43.552448 12.159591  L 38.517483 12.159591  z \" style=\"fill:#1d8bcc;\"></path>\n",
       "   </g>\n",
       "   <g id=\"patch_10\">\n",
       "    <path clip-path=\"url(#pe53f83db1e)\" d=\"M 43.552448 20.571429  L 48.587413 20.571429  L 48.587413 14.31431  L 43.552448 14.31431  z \" style=\"fill:#1d8bcc;\"></path>\n",
       "   </g>\n",
       "   <g id=\"patch_11\">\n",
       "    <path clip-path=\"url(#pe53f83db1e)\" d=\"M 48.587413 20.571429  L 53.622378 20.571429  L 53.622378 16.607053  L 48.587413 16.607053  z \" style=\"fill:#1d8bcc;\"></path>\n",
       "   </g>\n",
       "   <g id=\"patch_12\">\n",
       "    <path clip-path=\"url(#pe53f83db1e)\" d=\"M 53.622378 20.571429  L 58.657343 20.571429  L 58.657343 18.9228  L 53.622378 18.9228  z \" style=\"fill:#1d8bcc;\"></path>\n",
       "   </g>\n",
       "   <g id=\"patch_13\">\n",
       "    <path clip-path=\"url(#pe53f83db1e)\" d=\"M 58.657343 20.571429  L 63.692308 20.571429  L 63.692308 19.681936  L 58.657343 19.681936  z \" style=\"fill:#1d8bcc;\"></path>\n",
       "   </g>\n",
       "   <g id=\"patch_14\">\n",
       "    <path clip-path=\"url(#pe53f83db1e)\" d=\"M 63.692308 20.571429  L 68.727273 20.571429  L 68.727273 20.303047  L 63.692308 20.303047  z \" style=\"fill:#1d8bcc;\"></path>\n",
       "   </g>\n",
       "   <g id=\"matplotlib.axis_1\"></g>\n",
       "   <g id=\"matplotlib.axis_2\"></g>\n",
       "  </g>\n",
       " </g>\n",
       " <defs>\n",
       "  <clipPath id=\"pe53f83db1e\">\n",
       "   <rect height=\"20.571429\" width=\"72\" x=\"0\" y=\"-0\"></rect>\n",
       "  </clipPath>\n",
       " </defs>\n",
       "</svg></div></td><td>10.8414</td><td>1.01301</td><td>0</td><td>7564</td><td>0</td><td>7.59035</td><td>14.2181</td><td>10.8414</td><td>1.01301</td></tr></tbody></table></div>"
      ],
      "text/plain": [
       "                    n    minimum     maximum     median  \\\n",
       "AUTO_COST        7564   0.194926    4.307963   1.009448   \n",
       "AUTO_COST*(0.5)  7564   0.097463    2.153982   0.504724   \n",
       "AUTO_TIME        7564   0.930008   29.441527   7.615709   \n",
       "BIKE_TIME        7564   2.784652   52.232051  13.586354   \n",
       "TRANSIT_FARE     7564   0.000000    2.500000   2.500000   \n",
       "TRANSIT_IVTT     7564   0.000000   12.166819   1.447685   \n",
       "TRANSIT_OVTT     7564   0.759059  128.651674  37.049942   \n",
       "WALK_TIME        7564  11.138607  208.928204  54.345418   \n",
       "log(INCOME)      7564   7.590347   14.218053  10.671870   \n",
       "\n",
       "                                                         histogram       mean  \\\n",
       "AUTO_COST        [[[<Element '{http://www.w3.org/2000/svg}style...   1.206009   \n",
       "AUTO_COST*(0.5)  [[[<Element '{http://www.w3.org/2000/svg}style...   0.603005   \n",
       "AUTO_TIME        [[[<Element '{http://www.w3.org/2000/svg}style...   8.222874   \n",
       "BIKE_TIME        [[[<Element '{http://www.w3.org/2000/svg}style...  15.982692   \n",
       "TRANSIT_FARE     [[[<Element '{http://www.w3.org/2000/svg}style...   1.387824   \n",
       "TRANSIT_IVTT     [[[<Element '{http://www.w3.org/2000/svg}style...   2.622771   \n",
       "TRANSIT_OVTT     [[[<Element '{http://www.w3.org/2000/svg}style...  37.661443   \n",
       "WALK_TIME        [[[<Element '{http://www.w3.org/2000/svg}style...  63.930768   \n",
       "log(INCOME)      [[[<Element '{http://www.w3.org/2000/svg}style...  10.841356   \n",
       "\n",
       "                     stdev  zeros  positives  negatives  nonzero_minimum  \\\n",
       "AUTO_COST         0.754844      0       7564          0         0.194926   \n",
       "AUTO_COST*(0.5)   0.377422      0       7564          0         0.097463   \n",
       "AUTO_TIME         4.581342      0       7564          0         0.930008   \n",
       "BIKE_TIME         9.297318      0       7564          0         2.784652   \n",
       "TRANSIT_FARE      1.242379   3365       4199          0         2.500000   \n",
       "TRANSIT_IVTT      3.380879   3365       4199          0         0.959322   \n",
       "TRANSIT_OVTT     23.219383      0       7564          0         0.759059   \n",
       "WALK_TIME        37.189270      0       7564          0        11.138607   \n",
       "log(INCOME)       1.013010      0       7564          0         7.590347   \n",
       "\n",
       "                 nonzero_maximum  nonzero_mean  nonzero_stdev  \n",
       "AUTO_COST               4.307963      1.206009       0.754844  \n",
       "AUTO_COST*(0.5)         2.153982      0.603005       0.377422  \n",
       "AUTO_TIME              29.441527      8.222874       4.581342  \n",
       "BIKE_TIME              52.232051     15.982692       9.297318  \n",
       "TRANSIT_FARE            2.500000      2.500000       0.000000  \n",
       "TRANSIT_IVTT           12.166819      4.724610       3.264970  \n",
       "TRANSIT_OVTT          128.651674     37.661443      23.219383  \n",
       "WALK_TIME             208.928204     63.930768      37.189270  \n",
       "log(INCOME)            14.218053     10.841356       1.013010  "
      ]
     },
     "execution_count": 32,
     "metadata": {},
     "output_type": "execute_result"
    }
   ],
   "source": [
    "m.dataframes.data_co.statistics()"
   ]
  },
  {
   "cell_type": "code",
   "execution_count": 33,
   "metadata": {},
   "outputs": [
    {
     "data": {
      "text/html": [
       "<h3>Iteration 056 [Converged] </h3>"
      ],
      "text/plain": [
       "<IPython.core.display.HTML object>"
      ]
     },
     "metadata": {},
     "output_type": "display_data"
    },
    {
     "data": {
      "text/html": [
       "<p>LL = -3493.0397300091445</p>"
      ],
      "text/plain": [
       "<IPython.core.display.HTML object>"
      ]
     },
     "metadata": {},
     "output_type": "display_data"
    },
    {
     "data": {
      "text/html": [
       "<div>\n",
       "<style scoped>\n",
       "    .dataframe tbody tr th:only-of-type {\n",
       "        vertical-align: middle;\n",
       "    }\n",
       "\n",
       "    .dataframe tbody tr th {\n",
       "        vertical-align: top;\n",
       "    }\n",
       "\n",
       "    .dataframe thead th {\n",
       "        text-align: right;\n",
       "    }\n",
       "</style>\n",
       "<table border=\"1\" class=\"dataframe\">\n",
       "  <thead>\n",
       "    <tr style=\"text-align: right;\">\n",
       "      <th></th>\n",
       "      <th>value</th>\n",
       "      <th>initvalue</th>\n",
       "      <th>nullvalue</th>\n",
       "      <th>minimum</th>\n",
       "      <th>maximum</th>\n",
       "      <th>holdfast</th>\n",
       "      <th>note</th>\n",
       "      <th>best</th>\n",
       "    </tr>\n",
       "  </thead>\n",
       "  <tbody>\n",
       "    <tr>\n",
       "      <th>ASC_Bike</th>\n",
       "      <td>-0.257901</td>\n",
       "      <td>0.0</td>\n",
       "      <td>0.0</td>\n",
       "      <td>-inf</td>\n",
       "      <td>inf</td>\n",
       "      <td>0</td>\n",
       "      <td></td>\n",
       "      <td>-0.257901</td>\n",
       "    </tr>\n",
       "    <tr>\n",
       "      <th>ASC_SR</th>\n",
       "      <td>1.423159</td>\n",
       "      <td>0.0</td>\n",
       "      <td>0.0</td>\n",
       "      <td>-inf</td>\n",
       "      <td>inf</td>\n",
       "      <td>0</td>\n",
       "      <td></td>\n",
       "      <td>1.423159</td>\n",
       "    </tr>\n",
       "    <tr>\n",
       "      <th>ASC_Transit</th>\n",
       "      <td>6.754794</td>\n",
       "      <td>0.0</td>\n",
       "      <td>0.0</td>\n",
       "      <td>-inf</td>\n",
       "      <td>inf</td>\n",
       "      <td>0</td>\n",
       "      <td></td>\n",
       "      <td>6.754794</td>\n",
       "    </tr>\n",
       "    <tr>\n",
       "      <th>ASC_Walk</th>\n",
       "      <td>8.621893</td>\n",
       "      <td>0.0</td>\n",
       "      <td>0.0</td>\n",
       "      <td>-inf</td>\n",
       "      <td>inf</td>\n",
       "      <td>0</td>\n",
       "      <td></td>\n",
       "      <td>8.621893</td>\n",
       "    </tr>\n",
       "    <tr>\n",
       "      <th>Cost</th>\n",
       "      <td>-0.175720</td>\n",
       "      <td>0.0</td>\n",
       "      <td>0.0</td>\n",
       "      <td>-inf</td>\n",
       "      <td>inf</td>\n",
       "      <td>0</td>\n",
       "      <td></td>\n",
       "      <td>-0.175720</td>\n",
       "    </tr>\n",
       "    <tr>\n",
       "      <th>InVehTime</th>\n",
       "      <td>-0.123723</td>\n",
       "      <td>0.0</td>\n",
       "      <td>0.0</td>\n",
       "      <td>-inf</td>\n",
       "      <td>inf</td>\n",
       "      <td>0</td>\n",
       "      <td></td>\n",
       "      <td>-0.123723</td>\n",
       "    </tr>\n",
       "    <tr>\n",
       "      <th>LogIncome:Bike</th>\n",
       "      <td>-0.196995</td>\n",
       "      <td>0.0</td>\n",
       "      <td>0.0</td>\n",
       "      <td>-inf</td>\n",
       "      <td>inf</td>\n",
       "      <td>0</td>\n",
       "      <td></td>\n",
       "      <td>-0.196995</td>\n",
       "    </tr>\n",
       "    <tr>\n",
       "      <th>LogIncome:SR</th>\n",
       "      <td>-0.193845</td>\n",
       "      <td>0.0</td>\n",
       "      <td>0.0</td>\n",
       "      <td>-inf</td>\n",
       "      <td>inf</td>\n",
       "      <td>0</td>\n",
       "      <td></td>\n",
       "      <td>-0.193845</td>\n",
       "    </tr>\n",
       "    <tr>\n",
       "      <th>LogIncome:Transit</th>\n",
       "      <td>-0.557177</td>\n",
       "      <td>0.0</td>\n",
       "      <td>0.0</td>\n",
       "      <td>-inf</td>\n",
       "      <td>inf</td>\n",
       "      <td>0</td>\n",
       "      <td></td>\n",
       "      <td>-0.557177</td>\n",
       "    </tr>\n",
       "    <tr>\n",
       "      <th>LogIncome:Walk</th>\n",
       "      <td>-0.522822</td>\n",
       "      <td>0.0</td>\n",
       "      <td>0.0</td>\n",
       "      <td>-inf</td>\n",
       "      <td>inf</td>\n",
       "      <td>0</td>\n",
       "      <td></td>\n",
       "      <td>-0.522822</td>\n",
       "    </tr>\n",
       "    <tr>\n",
       "      <th>Mu:Car</th>\n",
       "      <td>0.259347</td>\n",
       "      <td>1.0</td>\n",
       "      <td>1.0</td>\n",
       "      <td>0.001</td>\n",
       "      <td>1.0</td>\n",
       "      <td>0</td>\n",
       "      <td></td>\n",
       "      <td>0.259347</td>\n",
       "    </tr>\n",
       "    <tr>\n",
       "      <th>Mu:Motor</th>\n",
       "      <td>0.801653</td>\n",
       "      <td>1.0</td>\n",
       "      <td>1.0</td>\n",
       "      <td>0.001</td>\n",
       "      <td>1.0</td>\n",
       "      <td>0</td>\n",
       "      <td></td>\n",
       "      <td>0.801653</td>\n",
       "    </tr>\n",
       "    <tr>\n",
       "      <th>Mu:NonMotor</th>\n",
       "      <td>0.853782</td>\n",
       "      <td>1.0</td>\n",
       "      <td>1.0</td>\n",
       "      <td>0.001</td>\n",
       "      <td>1.0</td>\n",
       "      <td>0</td>\n",
       "      <td></td>\n",
       "      <td>0.853782</td>\n",
       "    </tr>\n",
       "    <tr>\n",
       "      <th>NonMotorTime</th>\n",
       "      <td>-0.265586</td>\n",
       "      <td>0.0</td>\n",
       "      <td>0.0</td>\n",
       "      <td>-inf</td>\n",
       "      <td>inf</td>\n",
       "      <td>0</td>\n",
       "      <td></td>\n",
       "      <td>-0.265586</td>\n",
       "    </tr>\n",
       "    <tr>\n",
       "      <th>OutVehTime</th>\n",
       "      <td>-0.254809</td>\n",
       "      <td>0.0</td>\n",
       "      <td>0.0</td>\n",
       "      <td>-inf</td>\n",
       "      <td>inf</td>\n",
       "      <td>0</td>\n",
       "      <td></td>\n",
       "      <td>-0.254809</td>\n",
       "    </tr>\n",
       "  </tbody>\n",
       "</table>\n",
       "</div>"
      ],
      "text/plain": [
       "                      value  initvalue  nullvalue  minimum  maximum  holdfast  \\\n",
       "ASC_Bike          -0.257901        0.0        0.0     -inf      inf         0   \n",
       "ASC_SR             1.423159        0.0        0.0     -inf      inf         0   \n",
       "ASC_Transit        6.754794        0.0        0.0     -inf      inf         0   \n",
       "ASC_Walk           8.621893        0.0        0.0     -inf      inf         0   \n",
       "Cost              -0.175720        0.0        0.0     -inf      inf         0   \n",
       "InVehTime         -0.123723        0.0        0.0     -inf      inf         0   \n",
       "LogIncome:Bike    -0.196995        0.0        0.0     -inf      inf         0   \n",
       "LogIncome:SR      -0.193845        0.0        0.0     -inf      inf         0   \n",
       "LogIncome:Transit -0.557177        0.0        0.0     -inf      inf         0   \n",
       "LogIncome:Walk    -0.522822        0.0        0.0     -inf      inf         0   \n",
       "Mu:Car             0.259347        1.0        1.0    0.001      1.0         0   \n",
       "Mu:Motor           0.801653        1.0        1.0    0.001      1.0         0   \n",
       "Mu:NonMotor        0.853782        1.0        1.0    0.001      1.0         0   \n",
       "NonMotorTime      -0.265586        0.0        0.0     -inf      inf         0   \n",
       "OutVehTime        -0.254809        0.0        0.0     -inf      inf         0   \n",
       "\n",
       "                  note      best  \n",
       "ASC_Bike               -0.257901  \n",
       "ASC_SR                  1.423159  \n",
       "ASC_Transit             6.754794  \n",
       "ASC_Walk                8.621893  \n",
       "Cost                   -0.175720  \n",
       "InVehTime              -0.123723  \n",
       "LogIncome:Bike         -0.196995  \n",
       "LogIncome:SR           -0.193845  \n",
       "LogIncome:Transit      -0.557177  \n",
       "LogIncome:Walk         -0.522822  \n",
       "Mu:Car                  0.259347  \n",
       "Mu:Motor                0.801653  \n",
       "Mu:NonMotor             0.853782  \n",
       "NonMotorTime           -0.265586  \n",
       "OutVehTime             -0.254809  "
      ]
     },
     "metadata": {},
     "output_type": "display_data"
    }
   ],
   "source": [
    "result = m.maximize_loglike(method='slsqp')"
   ]
  },
  {
   "cell_type": "code",
   "execution_count": 34,
   "metadata": {},
   "outputs": [],
   "source": [
    "m.calculate_parameter_covariance()"
   ]
  },
  {
   "cell_type": "code",
   "execution_count": 35,
   "metadata": {},
   "outputs": [
    {
     "data": {
      "text/html": [
       "<div><table><thead><tr><th colspan=\"2\" style=\"text-align: left;\">Parameter</th><th>Value</th><th>Std Err</th><th>t Stat</th><th>Null Value</th></tr></thead><tbody><tr><th colspan=\"2\" style=\"vertical-align: top; text-align: left;\">ASC_Bike</th><td>-0.2579</td><td>1.34</td><td>-0.19</td><td>0.0</td></tr><tr><th colspan=\"2\" style=\"vertical-align: top; text-align: left;\">ASC_SR</th><td>1.423</td><td>1.00</td><td>1.42</td><td>0.0</td></tr><tr><th colspan=\"2\" style=\"vertical-align: top; text-align: left;\">ASC_Transit</th><td>6.755</td><td>2.06</td><td>3.27</td><td>0.0</td></tr><tr><th colspan=\"2\" style=\"vertical-align: top; text-align: left;\">ASC_Walk</th><td>8.622</td><td>1.14</td><td>7.57</td><td>0.0</td></tr><tr><th colspan=\"2\" style=\"vertical-align: top; text-align: left;\">Cost</th><td>-0.1757</td><td>0.120</td><td>-1.47</td><td>0.0</td></tr><tr><th colspan=\"2\" style=\"vertical-align: top; text-align: left;\">InVehTime</th><td>-0.1237</td><td>0.0292</td><td>-4.24</td><td>0.0</td></tr><tr><th rowspan=\"4\" style=\"vertical-align: top; text-align: left;\">LogIncome</th><th style=\"vertical-align: top; text-align: left;\">Bike</th><td>-0.197</td><td>0.124</td><td>-1.59</td><td>0.0</td></tr><tr><th style=\"vertical-align: top; text-align: left;\">SR</th><td>-0.1938</td><td>0.135</td><td>-1.43</td><td>0.0</td></tr><tr><th style=\"vertical-align: top; text-align: left;\">Transit</th><td>-0.5572</td><td>0.169</td><td>-3.29</td><td>0.0</td></tr><tr><th style=\"vertical-align: top; text-align: left;\">Walk</th><td>-0.5228</td><td>0.100</td><td>-5.21</td><td>0.0</td></tr><tr><th rowspan=\"3\" style=\"vertical-align: top; text-align: left;\">Mu</th><th style=\"vertical-align: top; text-align: left;\">Car</th><td>0.2593</td><td>0.181</td><td>-4.10</td><td>1.0</td></tr><tr><th style=\"vertical-align: top; text-align: left;\">Motor</th><td>0.8017</td><td>0.201</td><td>-0.99</td><td>1.0</td></tr><tr><th style=\"vertical-align: top; text-align: left;\">NonMotor</th><td>0.8538</td><td>0.112</td><td>-1.30</td><td>1.0</td></tr><tr><th colspan=\"2\" style=\"vertical-align: top; text-align: left;\">NonMotorTime</th><td>-0.2656</td><td>0.0163</td><td>-16.29</td><td>0.0</td></tr><tr><th colspan=\"2\" style=\"vertical-align: top; text-align: left;\">OutVehTime</th><td>-0.2548</td><td>0.0646</td><td>-3.95</td><td>0.0</td></tr></tbody></table></div>"
      ],
      "text/plain": [
       "    Parameter              Value  Std Err  t Stat  Null Value\n",
       "     ASC_Bike            -0.2579     1.34   -0.19         0.0\n",
       "       ASC_SR              1.423     1.00    1.42         0.0\n",
       "  ASC_Transit              6.755     2.06    3.27         0.0\n",
       "     ASC_Walk              8.622     1.14    7.57         0.0\n",
       "         Cost            -0.1757    0.120   -1.47         0.0\n",
       "    InVehTime            -0.1237   0.0292   -4.24         0.0\n",
       "    LogIncome      Bike   -0.197    0.124   -1.59         0.0\n",
       "                     SR  -0.1938    0.135   -1.43         0.0\n",
       "                Transit  -0.5572    0.169   -3.29         0.0\n",
       "                   Walk  -0.5228    0.100   -5.21         0.0\n",
       "           Mu       Car   0.2593    0.181   -4.10         1.0\n",
       "                  Motor   0.8017    0.201   -0.99         1.0\n",
       "               NonMotor   0.8538    0.112   -1.30         1.0\n",
       " NonMotorTime            -0.2656   0.0163  -16.29         0.0\n",
       "   OutVehTime            -0.2548   0.0646   -3.95         0.0"
      ]
     },
     "execution_count": 35,
     "metadata": {},
     "output_type": "execute_result"
    }
   ],
   "source": [
    "m.parameter_summary()"
   ]
  },
  {
   "cell_type": "code",
   "execution_count": 36,
   "metadata": {},
   "outputs": [],
   "source": [
    "report = larch.Reporter(title=m.title)"
   ]
  },
  {
   "cell_type": "code",
   "execution_count": 37,
   "metadata": {},
   "outputs": [
    {
     "data": {
      "text/html": [
       "<h1><a class=\"toc\" name=\"rx1\" reftxt=\"Parameter Summary\" toclevel=\"1\"></a>Parameter Summary</h1><div><table><thead><tr><th colspan=\"2\" style=\"text-align: left;\">Parameter</th><th>Value</th><th>Std Err</th><th>t Stat</th><th>Null Value</th></tr></thead><tbody><tr><th colspan=\"2\" style=\"vertical-align: top; text-align: left;\">ASC_Bike</th><td>-0.2579</td><td>1.34</td><td>-0.19</td><td>0.0</td></tr><tr><th colspan=\"2\" style=\"vertical-align: top; text-align: left;\">ASC_SR</th><td>1.423</td><td>1.00</td><td>1.42</td><td>0.0</td></tr><tr><th colspan=\"2\" style=\"vertical-align: top; text-align: left;\">ASC_Transit</th><td>6.755</td><td>2.06</td><td>3.27</td><td>0.0</td></tr><tr><th colspan=\"2\" style=\"vertical-align: top; text-align: left;\">ASC_Walk</th><td>8.622</td><td>1.14</td><td>7.57</td><td>0.0</td></tr><tr><th colspan=\"2\" style=\"vertical-align: top; text-align: left;\">Cost</th><td>-0.1757</td><td>0.120</td><td>-1.47</td><td>0.0</td></tr><tr><th colspan=\"2\" style=\"vertical-align: top; text-align: left;\">InVehTime</th><td>-0.1237</td><td>0.0292</td><td>-4.24</td><td>0.0</td></tr><tr><th rowspan=\"4\" style=\"vertical-align: top; text-align: left;\">LogIncome</th><th style=\"vertical-align: top; text-align: left;\">Bike</th><td>-0.197</td><td>0.124</td><td>-1.59</td><td>0.0</td></tr><tr><th style=\"vertical-align: top; text-align: left;\">SR</th><td>-0.1938</td><td>0.135</td><td>-1.43</td><td>0.0</td></tr><tr><th style=\"vertical-align: top; text-align: left;\">Transit</th><td>-0.5572</td><td>0.169</td><td>-3.29</td><td>0.0</td></tr><tr><th style=\"vertical-align: top; text-align: left;\">Walk</th><td>-0.5228</td><td>0.100</td><td>-5.21</td><td>0.0</td></tr><tr><th rowspan=\"3\" style=\"vertical-align: top; text-align: left;\">Mu</th><th style=\"vertical-align: top; text-align: left;\">Car</th><td>0.2593</td><td>0.181</td><td>-4.10</td><td>1.0</td></tr><tr><th style=\"vertical-align: top; text-align: left;\">Motor</th><td>0.8017</td><td>0.201</td><td>-0.99</td><td>1.0</td></tr><tr><th style=\"vertical-align: top; text-align: left;\">NonMotor</th><td>0.8538</td><td>0.112</td><td>-1.30</td><td>1.0</td></tr><tr><th colspan=\"2\" style=\"vertical-align: top; text-align: left;\">NonMotorTime</th><td>-0.2656</td><td>0.0163</td><td>-16.29</td><td>0.0</td></tr><tr><th colspan=\"2\" style=\"vertical-align: top; text-align: left;\">OutVehTime</th><td>-0.2548</td><td>0.0646</td><td>-3.95</td><td>0.0</td></tr></tbody></table></div>"
      ],
      "text/plain": [
       "<xmle.Elem 'div' with 3 children>"
      ]
     },
     "execution_count": 37,
     "metadata": {},
     "output_type": "execute_result"
    }
   ],
   "source": [
    "report << '# Parameter Summary' << m.parameter_summary()"
   ]
  },
  {
   "cell_type": "code",
   "execution_count": 38,
   "metadata": {},
   "outputs": [
    {
     "data": {
      "text/html": [
       "<h1><a class=\"toc\" name=\"rx2\" reftxt=\"Estimation Statistics\" toclevel=\"1\"></a>Estimation Statistics</h1><div><table><thead><tr><th>Statistic</th><th>Aggregate</th><th>Per Case</th></tr><tr><td>Number of Cases</td><td colspan=\"2\">7564</td></tr><tr><td>Log Likelihood at Convergence</td><td>-3493.04</td><td>-0.46</td></tr><tr><td>Log Likelihood at Null Parameters</td><td>-10644.66</td><td>-1.41</td></tr><tr><td>Rho Squared w.r.t. Null Parameters</td><td colspan=\"2\">0.672</td></tr></thead><tbody></tbody></table></div>"
      ],
      "text/plain": [
       "<xmle.Elem 'div' with 5 children>"
      ]
     },
     "execution_count": 38,
     "metadata": {},
     "output_type": "execute_result"
    }
   ],
   "source": [
    "report << \"# Estimation Statistics\" << m.estimation_statistics()"
   ]
  },
  {
   "cell_type": "code",
   "execution_count": 39,
   "metadata": {},
   "outputs": [
    {
     "data": {
      "text/html": [
       "<h1><a class=\"toc\" name=\"rx3\" reftxt=\"Utility Functions\" toclevel=\"1\"></a>Utility Functions</h1><div><table class=\"floatinghead\" style=\"margin-top:1px;\"><thead><tr><th>alt</th><th style=\"text-align:left;\">formula</th></tr></thead><tbody><tr><td>1</td><td style=\"text-align:left;\"><div></div> + <span class=\"LinearFunc_Param\">P.InVehTime</span> * <span class=\"LinearFunc_Data\">X.AUTO_TIME</span><br> + <span class=\"LinearFunc_Param\">P.Cost</span> * <span class=\"LinearFunc_Data\">X.AUTO_COST</span></td></tr><tr><td>2</td><td style=\"text-align:left;\"><div></div> + <span class=\"LinearFunc_Param\">P.ASC_SR</span><br> + <span class=\"LinearFunc_Param\">P.InVehTime</span> * <span class=\"LinearFunc_Data\">X.AUTO_TIME</span><br> + <span class=\"LinearFunc_Param\">P.Cost</span> * <span class=\"LinearFunc_Data\">X('AUTO_COST*(0.5)')</span><br> + <span class=\"LinearFunc_Param\">P('LogIncome:SR')</span> * <span class=\"LinearFunc_Data\">X('log(INCOME)')</span></td></tr><tr><td>3</td><td style=\"text-align:left;\"><div></div> + <span class=\"LinearFunc_Param\">P.ASC_Walk</span><br> + <span class=\"LinearFunc_Param\">P.NonMotorTime</span> * <span class=\"LinearFunc_Data\">X.WALK_TIME</span><br> + <span class=\"LinearFunc_Param\">P('LogIncome:Walk')</span> * <span class=\"LinearFunc_Data\">X('log(INCOME)')</span></td></tr><tr><td>4</td><td style=\"text-align:left;\"><div></div> + <span class=\"LinearFunc_Param\">P.ASC_Bike</span><br> + <span class=\"LinearFunc_Param\">P.NonMotorTime</span> * <span class=\"LinearFunc_Data\">X.BIKE_TIME</span><br> + <span class=\"LinearFunc_Param\">P('LogIncome:Bike')</span> * <span class=\"LinearFunc_Data\">X('log(INCOME)')</span></td></tr><tr><td>5</td><td style=\"text-align:left;\"><div></div> + <span class=\"LinearFunc_Param\">P.ASC_Transit</span><br> + <span class=\"LinearFunc_Param\">P.InVehTime</span> * <span class=\"LinearFunc_Data\">X.TRANSIT_IVTT</span><br> + <span class=\"LinearFunc_Param\">P.OutVehTime</span> * <span class=\"LinearFunc_Data\">X.TRANSIT_OVTT</span><br> + <span class=\"LinearFunc_Param\">P.Cost</span> * <span class=\"LinearFunc_Data\">X.TRANSIT_FARE</span><br> + <span class=\"LinearFunc_Param\">P('LogIncome:Transit')</span> * <span class=\"LinearFunc_Data\">X('log(INCOME)')</span></td></tr></tbody></table></div>"
      ],
      "text/plain": [
       "<xmle.Elem 'div' with 7 children>"
      ]
     },
     "execution_count": 39,
     "metadata": {},
     "output_type": "execute_result"
    }
   ],
   "source": [
    "report << \"# Utility Functions\" << m.utility_functions()"
   ]
  },
  {
   "cell_type": "code",
   "execution_count": 40,
   "metadata": {},
   "outputs": [
    {
     "data": {
      "text/plain": [
       "'/tmp/exampville_mode_choice.html'"
      ]
     },
     "execution_count": 40,
     "metadata": {},
     "output_type": "execute_result"
    }
   ],
   "source": [
    "report.save(\n",
    "    '/tmp/exampville_mode_choice.html',\n",
    "    overwrite=True,\n",
    "    metadata=m,\n",
    ")"
   ]
  },
  {
   "cell_type": "code",
   "execution_count": 41,
   "metadata": {},
   "outputs": [],
   "source": [
    "import larch, numpy, pandas, os"
   ]
  },
  {
   "cell_type": "code",
   "execution_count": 42,
   "metadata": {},
   "outputs": [],
   "source": [
    "import larch.exampville\n",
    "hh = pandas.read_csv( larch.exampville.files.hh )\n",
    "pp = pandas.read_csv( larch.exampville.files.person )\n",
    "tour = pandas.read_csv( larch.exampville.files.tour )\n",
    "skims = larch.OMX( larch.exampville.files.skims, mode='r' )"
   ]
  },
  {
   "cell_type": "code",
   "execution_count": 43,
   "metadata": {},
   "outputs": [],
   "source": [
    "m = larch.read_metadata('/tmp/exampville_mode_choice.html')"
   ]
  },
  {
   "cell_type": "code",
   "execution_count": 44,
   "metadata": {},
   "outputs": [],
   "source": [
    "raw = tour.merge(hh, on='HHID').merge(pp, on=('HHID', 'PERSONID'))\n",
    "raw[\"HOMETAZi\"] = raw[\"HOMETAZ\"] - 1\n",
    "raw[\"DTAZi\"] = raw[\"DTAZ\"] - 1\n",
    "raw = raw[raw.TOURPURP == 1]\n",
    "raw = raw.join(\n",
    "    skims.get_rc_dataframe(\n",
    "        raw.HOMETAZi, raw.DTAZi,\n",
    "    )\n",
    ")"
   ]
  },
  {
   "cell_type": "code",
   "execution_count": 45,
   "metadata": {},
   "outputs": [],
   "source": [
    "# For clarity, we can define numbers as names for modes\n",
    "DA = 1\n",
    "SR = 2\n",
    "Walk = 3\n",
    "Bike = 4\n",
    "Transit = 5"
   ]
  },
  {
   "cell_type": "code",
   "execution_count": 46,
   "metadata": {},
   "outputs": [],
   "source": [
    "dfs = larch.DataFrames(\n",
    "    co=raw,\n",
    "    alt_codes=[DA,SR,Walk,Bike,Transit],\n",
    "    alt_names=['DA','SR','Walk','Bike','Transit'],\n",
    "    ch_name='TOURMODE',\n",
    ")\n",
    "\n",
    "m.dataservice = dfs"
   ]
  },
  {
   "cell_type": "code",
   "execution_count": 47,
   "metadata": {},
   "outputs": [],
   "source": [
    "logsums = pandas.DataFrame(\n",
    "    data=0.0,\n",
    "    index=raw.index,\n",
    "    columns=skims.TAZ_ID\n",
    ")"
   ]
  },
  {
   "cell_type": "code",
   "execution_count": 48,
   "metadata": {},
   "outputs": [],
   "source": [
    "for destination_i, dtaz in enumerate(logsums.columns):\n",
    "\n",
    "    # Get the LOS data for this destination\n",
    "    new_data = skims.get_rc_dataframe(\n",
    "        raw.HOMETAZi, destination_i,\n",
    "    )\n",
    "\n",
    "    # Write this data into the model's dataservice,\n",
    "    # overwriting the existing values.\n",
    "    dfs.data_co[new_data.columns] = new_data\n",
    "\n",
    "    # Run the pre-processing to create the arrays\n",
    "    # needed for computation.\n",
    "    m.load_data()\n",
    "\n",
    "    # Lastly, compute the logsums and save them\n",
    "    # to the new DataFrame.\n",
    "    logsums[dtaz] = m.logsums()"
   ]
  },
  {
   "cell_type": "code",
   "execution_count": 49,
   "metadata": {},
   "outputs": [
    {
     "data": {
      "text/html": [
       "<div>\n",
       "<style scoped>\n",
       "    .dataframe tbody tr th:only-of-type {\n",
       "        vertical-align: middle;\n",
       "    }\n",
       "\n",
       "    .dataframe tbody tr th {\n",
       "        vertical-align: top;\n",
       "    }\n",
       "\n",
       "    .dataframe thead th {\n",
       "        text-align: right;\n",
       "    }\n",
       "</style>\n",
       "<table border=\"1\" class=\"dataframe\">\n",
       "  <thead>\n",
       "    <tr style=\"text-align: right;\">\n",
       "      <th>TAZ_ID</th>\n",
       "      <th>1</th>\n",
       "      <th>2</th>\n",
       "      <th>3</th>\n",
       "      <th>4</th>\n",
       "      <th>5</th>\n",
       "      <th>6</th>\n",
       "      <th>7</th>\n",
       "      <th>8</th>\n",
       "      <th>9</th>\n",
       "      <th>10</th>\n",
       "      <th>...</th>\n",
       "      <th>31</th>\n",
       "      <th>32</th>\n",
       "      <th>33</th>\n",
       "      <th>34</th>\n",
       "      <th>35</th>\n",
       "      <th>36</th>\n",
       "      <th>37</th>\n",
       "      <th>38</th>\n",
       "      <th>39</th>\n",
       "      <th>40</th>\n",
       "    </tr>\n",
       "  </thead>\n",
       "  <tbody>\n",
       "    <tr>\n",
       "      <th>0</th>\n",
       "      <td>-2.935713</td>\n",
       "      <td>-2.660536</td>\n",
       "      <td>-1.745670</td>\n",
       "      <td>-2.229338</td>\n",
       "      <td>-2.403182</td>\n",
       "      <td>-1.624226</td>\n",
       "      <td>-2.689859</td>\n",
       "      <td>-2.704618</td>\n",
       "      <td>-3.258728</td>\n",
       "      <td>-2.718739</td>\n",
       "      <td>...</td>\n",
       "      <td>-1.702316</td>\n",
       "      <td>-1.717786</td>\n",
       "      <td>-2.340960</td>\n",
       "      <td>-2.760617</td>\n",
       "      <td>-1.029280</td>\n",
       "      <td>-2.249790</td>\n",
       "      <td>-2.048407</td>\n",
       "      <td>-2.160306</td>\n",
       "      <td>-2.286868</td>\n",
       "      <td>-1.959773</td>\n",
       "    </tr>\n",
       "    <tr>\n",
       "      <th>1</th>\n",
       "      <td>-2.935713</td>\n",
       "      <td>-2.660536</td>\n",
       "      <td>-1.745670</td>\n",
       "      <td>-2.229338</td>\n",
       "      <td>-2.403182</td>\n",
       "      <td>-1.624226</td>\n",
       "      <td>-2.689859</td>\n",
       "      <td>-2.704618</td>\n",
       "      <td>-3.258728</td>\n",
       "      <td>-2.718739</td>\n",
       "      <td>...</td>\n",
       "      <td>-1.702316</td>\n",
       "      <td>-1.717786</td>\n",
       "      <td>-2.340960</td>\n",
       "      <td>-2.760617</td>\n",
       "      <td>-1.029280</td>\n",
       "      <td>-2.249790</td>\n",
       "      <td>-2.048407</td>\n",
       "      <td>-2.160306</td>\n",
       "      <td>-2.286868</td>\n",
       "      <td>-1.959773</td>\n",
       "    </tr>\n",
       "    <tr>\n",
       "      <th>3</th>\n",
       "      <td>-2.935713</td>\n",
       "      <td>-2.660536</td>\n",
       "      <td>-1.745670</td>\n",
       "      <td>-2.229338</td>\n",
       "      <td>-2.403182</td>\n",
       "      <td>-1.624226</td>\n",
       "      <td>-2.689859</td>\n",
       "      <td>-2.704618</td>\n",
       "      <td>-3.258728</td>\n",
       "      <td>-2.718739</td>\n",
       "      <td>...</td>\n",
       "      <td>-1.702316</td>\n",
       "      <td>-1.717786</td>\n",
       "      <td>-2.340960</td>\n",
       "      <td>-2.760617</td>\n",
       "      <td>-1.029280</td>\n",
       "      <td>-2.249790</td>\n",
       "      <td>-2.048407</td>\n",
       "      <td>-2.160306</td>\n",
       "      <td>-2.286868</td>\n",
       "      <td>-1.959773</td>\n",
       "    </tr>\n",
       "    <tr>\n",
       "      <th>7</th>\n",
       "      <td>-3.046216</td>\n",
       "      <td>-2.770092</td>\n",
       "      <td>-1.823420</td>\n",
       "      <td>-2.320433</td>\n",
       "      <td>-2.494165</td>\n",
       "      <td>-1.705379</td>\n",
       "      <td>-2.785956</td>\n",
       "      <td>-2.806232</td>\n",
       "      <td>-3.365641</td>\n",
       "      <td>-2.831113</td>\n",
       "      <td>...</td>\n",
       "      <td>-1.784256</td>\n",
       "      <td>-1.797553</td>\n",
       "      <td>-2.430906</td>\n",
       "      <td>-2.863390</td>\n",
       "      <td>-1.100512</td>\n",
       "      <td>-2.343775</td>\n",
       "      <td>-2.133362</td>\n",
       "      <td>-2.247115</td>\n",
       "      <td>-2.380724</td>\n",
       "      <td>-2.047770</td>\n",
       "    </tr>\n",
       "    <tr>\n",
       "      <th>10</th>\n",
       "      <td>-3.051758</td>\n",
       "      <td>-2.775558</td>\n",
       "      <td>-1.827227</td>\n",
       "      <td>-2.324878</td>\n",
       "      <td>-2.498529</td>\n",
       "      <td>-1.709190</td>\n",
       "      <td>-2.790614</td>\n",
       "      <td>-2.811234</td>\n",
       "      <td>-3.370947</td>\n",
       "      <td>-2.836754</td>\n",
       "      <td>...</td>\n",
       "      <td>-1.788103</td>\n",
       "      <td>-1.801300</td>\n",
       "      <td>-2.435210</td>\n",
       "      <td>-2.868381</td>\n",
       "      <td>-1.103854</td>\n",
       "      <td>-2.348454</td>\n",
       "      <td>-2.137388</td>\n",
       "      <td>-2.251244</td>\n",
       "      <td>-2.385223</td>\n",
       "      <td>-2.052071</td>\n",
       "    </tr>\n",
       "  </tbody>\n",
       "</table>\n",
       "<p>5 rows × 40 columns</p>\n",
       "</div>"
      ],
      "text/plain": [
       "TAZ_ID        1         2         3         4         5         6         7   \\\n",
       "0      -2.935713 -2.660536 -1.745670 -2.229338 -2.403182 -1.624226 -2.689859   \n",
       "1      -2.935713 -2.660536 -1.745670 -2.229338 -2.403182 -1.624226 -2.689859   \n",
       "3      -2.935713 -2.660536 -1.745670 -2.229338 -2.403182 -1.624226 -2.689859   \n",
       "7      -3.046216 -2.770092 -1.823420 -2.320433 -2.494165 -1.705379 -2.785956   \n",
       "10     -3.051758 -2.775558 -1.827227 -2.324878 -2.498529 -1.709190 -2.790614   \n",
       "\n",
       "TAZ_ID        8         9         10  ...        31        32        33  \\\n",
       "0      -2.704618 -3.258728 -2.718739  ... -1.702316 -1.717786 -2.340960   \n",
       "1      -2.704618 -3.258728 -2.718739  ... -1.702316 -1.717786 -2.340960   \n",
       "3      -2.704618 -3.258728 -2.718739  ... -1.702316 -1.717786 -2.340960   \n",
       "7      -2.806232 -3.365641 -2.831113  ... -1.784256 -1.797553 -2.430906   \n",
       "10     -2.811234 -3.370947 -2.836754  ... -1.788103 -1.801300 -2.435210   \n",
       "\n",
       "TAZ_ID        34        35        36        37        38        39        40  \n",
       "0      -2.760617 -1.029280 -2.249790 -2.048407 -2.160306 -2.286868 -1.959773  \n",
       "1      -2.760617 -1.029280 -2.249790 -2.048407 -2.160306 -2.286868 -1.959773  \n",
       "3      -2.760617 -1.029280 -2.249790 -2.048407 -2.160306 -2.286868 -1.959773  \n",
       "7      -2.863390 -1.100512 -2.343775 -2.133362 -2.247115 -2.380724 -2.047770  \n",
       "10     -2.868381 -1.103854 -2.348454 -2.137388 -2.251244 -2.385223 -2.052071  \n",
       "\n",
       "[5 rows x 40 columns]"
      ]
     },
     "execution_count": 49,
     "metadata": {},
     "output_type": "execute_result"
    }
   ],
   "source": [
    "logsums.head()"
   ]
  },
  {
   "cell_type": "code",
   "execution_count": 50,
   "metadata": {},
   "outputs": [],
   "source": [
    "logsums.to_pickle('/tmp/logsums.pkl.gz')"
   ]
  },
  {
   "cell_type": "code",
   "execution_count": 51,
   "metadata": {},
   "outputs": [],
   "source": [
    "import larch, numpy, pandas, os\n",
    "from larch import P, X"
   ]
  },
  {
   "cell_type": "code",
   "execution_count": 52,
   "metadata": {},
   "outputs": [],
   "source": [
    "import larch.exampville\n",
    "\n",
    "hh = pandas.read_csv( larch.exampville.files.hh )\n",
    "pp = pandas.read_csv( larch.exampville.files.person )\n",
    "tour = pandas.read_csv( larch.exampville.files.tour )\n",
    "skims = larch.OMX( larch.exampville.files.skims, mode='r' )"
   ]
  },
  {
   "cell_type": "code",
   "execution_count": 53,
   "metadata": {},
   "outputs": [
    {
     "name": "stdout",
     "output_type": "stream",
     "text": [
      "<class 'pandas.core.frame.DataFrame'>\n",
      "Int64Index: 40 entries, 1 to 40\n",
      "Data columns (total 3 columns):\n",
      " #   Column         Non-Null Count  Dtype\n",
      "---  ------         --------------  -----\n",
      " 0   NONRETAIL_EMP  40 non-null     int64\n",
      " 1   RETAIL_EMP     40 non-null     int64\n",
      " 2   TOTAL_EMP      40 non-null     int64\n",
      "dtypes: int64(3)\n",
      "memory usage: 1.2 KB\n"
     ]
    }
   ],
   "source": [
    "emp = pandas.read_csv(larch.exampville.files.employment, index_col='TAZ')\n",
    "emp.info()"
   ]
  },
  {
   "cell_type": "code",
   "execution_count": 54,
   "metadata": {},
   "outputs": [],
   "source": [
    "logsums = pandas.read_pickle('/tmp/logsums.pkl.gz')"
   ]
  },
  {
   "cell_type": "code",
   "execution_count": 55,
   "metadata": {},
   "outputs": [],
   "source": [
    "co = tour.merge(hh, on='HHID').merge(pp, on=('HHID', 'PERSONID'))\n",
    "co[\"HOMETAZi\"] = co[\"HOMETAZ\"] - 1\n",
    "co[\"DTAZi\"] = co[\"DTAZ\"] - 1\n",
    "co = co[co.TOURPURP == 1]\n",
    "co.index.name = 'CASE_ID'"
   ]
  },
  {
   "cell_type": "code",
   "execution_count": 56,
   "metadata": {},
   "outputs": [],
   "source": [
    "distance = pandas.DataFrame(\n",
    "    skims.AUTO_DIST[:][co[\"HOMETAZi\"], :],\n",
    "    index=co.index,\n",
    "    columns=skims.TAZ_ID,\n",
    ")"
   ]
  },
  {
   "cell_type": "code",
   "execution_count": 57,
   "metadata": {},
   "outputs": [],
   "source": [
    "ca = pandas.concat([\n",
    "    distance.stack().rename(\"distance\"),\n",
    "    logsums.stack().rename(\"logsum\"),\n",
    "], axis=1)"
   ]
  },
  {
   "cell_type": "code",
   "execution_count": 58,
   "metadata": {},
   "outputs": [
    {
     "data": {
      "text/html": [
       "<div>\n",
       "<style scoped>\n",
       "    .dataframe tbody tr th:only-of-type {\n",
       "        vertical-align: middle;\n",
       "    }\n",
       "\n",
       "    .dataframe tbody tr th {\n",
       "        vertical-align: top;\n",
       "    }\n",
       "\n",
       "    .dataframe thead th {\n",
       "        text-align: right;\n",
       "    }\n",
       "</style>\n",
       "<table border=\"1\" class=\"dataframe\">\n",
       "  <thead>\n",
       "    <tr style=\"text-align: right;\">\n",
       "      <th></th>\n",
       "      <th></th>\n",
       "      <th>distance</th>\n",
       "      <th>logsum</th>\n",
       "    </tr>\n",
       "    <tr>\n",
       "      <th>CASE_ID</th>\n",
       "      <th>TAZ_ID</th>\n",
       "      <th></th>\n",
       "      <th></th>\n",
       "    </tr>\n",
       "  </thead>\n",
       "  <tbody>\n",
       "    <tr>\n",
       "      <th rowspan=\"5\" valign=\"top\">0</th>\n",
       "      <th>1</th>\n",
       "      <td>8.286090</td>\n",
       "      <td>-2.935713</td>\n",
       "    </tr>\n",
       "    <tr>\n",
       "      <th>2</th>\n",
       "      <td>8.256698</td>\n",
       "      <td>-2.660536</td>\n",
       "    </tr>\n",
       "    <tr>\n",
       "      <th>3</th>\n",
       "      <td>2.928829</td>\n",
       "      <td>-1.745670</td>\n",
       "    </tr>\n",
       "    <tr>\n",
       "      <th>4</th>\n",
       "      <td>5.502758</td>\n",
       "      <td>-2.229338</td>\n",
       "    </tr>\n",
       "    <tr>\n",
       "      <th>5</th>\n",
       "      <td>5.882862</td>\n",
       "      <td>-2.403182</td>\n",
       "    </tr>\n",
       "  </tbody>\n",
       "</table>\n",
       "</div>"
      ],
      "text/plain": [
       "                distance    logsum\n",
       "CASE_ID TAZ_ID                    \n",
       "0       1       8.286090 -2.935713\n",
       "        2       8.256698 -2.660536\n",
       "        3       2.928829 -1.745670\n",
       "        4       5.502758 -2.229338\n",
       "        5       5.882862 -2.403182"
      ]
     },
     "execution_count": 58,
     "metadata": {},
     "output_type": "execute_result"
    }
   ],
   "source": [
    "ca.head()"
   ]
  },
  {
   "cell_type": "code",
   "execution_count": 59,
   "metadata": {},
   "outputs": [
    {
     "name": "stdout",
     "output_type": "stream",
     "text": [
      "<class 'pandas.core.frame.DataFrame'>\n",
      "Int64Index: 40 entries, 1 to 40\n",
      "Data columns (total 3 columns):\n",
      " #   Column         Non-Null Count  Dtype\n",
      "---  ------         --------------  -----\n",
      " 0   NONRETAIL_EMP  40 non-null     int64\n",
      " 1   RETAIL_EMP     40 non-null     int64\n",
      " 2   TOTAL_EMP      40 non-null     int64\n",
      "dtypes: int64(3)\n",
      "memory usage: 1.2 KB\n"
     ]
    }
   ],
   "source": [
    "emp.info()"
   ]
  },
  {
   "cell_type": "code",
   "execution_count": 60,
   "metadata": {},
   "outputs": [],
   "source": [
    "ca = ca.join(emp, on='TAZ_ID')"
   ]
  },
  {
   "cell_type": "code",
   "execution_count": 61,
   "metadata": {},
   "outputs": [],
   "source": [
    "area_type = pandas.Series(\n",
    "    skims.TAZ_AREA_TYPE[:],\n",
    "    index=skims.TAZ_ID[:],\n",
    "    name ='TAZ_AREA_TYPE',\n",
    ").astype('category')"
   ]
  },
  {
   "cell_type": "code",
   "execution_count": 62,
   "metadata": {},
   "outputs": [],
   "source": [
    "ca = ca.join(area_type, on='TAZ_ID')"
   ]
  },
  {
   "cell_type": "code",
   "execution_count": 63,
   "metadata": {},
   "outputs": [],
   "source": [
    "dfs = larch.DataFrames(\n",
    "    co=co,\n",
    "    ca=ca,\n",
    "    alt_codes=skims.TAZ_ID,\n",
    "    alt_names=['TAZ{i}' for i in skims.TAZ_ID],\n",
    "    ch_name='DTAZ',\n",
    "    av=True,\n",
    ")"
   ]
  },
  {
   "cell_type": "code",
   "execution_count": 64,
   "metadata": {},
   "outputs": [
    {
     "name": "stdout",
     "output_type": "stream",
     "text": [
      "larch.DataFrames:  (not computation-ready)\n",
      "  n_cases: 7564\n",
      "  n_alts: 40\n",
      "  data_ca:\n",
      "    - distance      (302560 non-null float64)\n",
      "    - logsum        (302560 non-null float64)\n",
      "    - NONRETAIL_EMP (302560 non-null int64)\n",
      "    - RETAIL_EMP    (302560 non-null int64)\n",
      "    - TOTAL_EMP     (302560 non-null int64)\n",
      "    - TAZ_AREA_TYPE (302560 non-null category)\n",
      "  data_co:\n",
      "    - TOURID        (7564 non-null int64)\n",
      "    - HHID          (7564 non-null int64)\n",
      "    - PERSONID      (7564 non-null int64)\n",
      "    - DTAZ          (7564 non-null int64)\n",
      "    - TOURMODE      (7564 non-null int64)\n",
      "    - TOURPURP      (7564 non-null int64)\n",
      "    - N_STOPS       (7564 non-null int64)\n",
      "    - N_TRIPS_x     (7564 non-null int64)\n",
      "    - N_TRIPS_HBW_x (7564 non-null int64)\n",
      "    - N_TRIPS_HBO_x (7564 non-null int64)\n",
      "    - N_TRIPS_NHB_x (7564 non-null int64)\n",
      "    - X             (7564 non-null float64)\n",
      "    - Y             (7564 non-null float64)\n",
      "    - INCOME        (7564 non-null float64)\n",
      "    - N_VEHICLES    (7564 non-null int64)\n",
      "    - HHSIZE        (7564 non-null int64)\n",
      "    - geometry      (7564 non-null object)\n",
      "    - HOMETAZ       (7564 non-null int64)\n",
      "    - N_TRIPS_y     (7564 non-null int64)\n",
      "    - N_TRIPS_HBW_y (7564 non-null int64)\n",
      "    - N_TRIPS_HBO_y (7564 non-null int64)\n",
      "    - N_TRIPS_NHB_y (7564 non-null int64)\n",
      "    - N_WORKERS     (7564 non-null int64)\n",
      "    - HHIDX         (7564 non-null int64)\n",
      "    - AGE           (7564 non-null int64)\n",
      "    - WORKS         (7564 non-null int64)\n",
      "    - N_WORK_TOURS  (7564 non-null int64)\n",
      "    - N_OTHER_TOURS (7564 non-null int64)\n",
      "    - N_TOURS       (7564 non-null int64)\n",
      "    - N_TRIPS       (7564 non-null int64)\n",
      "    - N_TRIPS_HBW   (7564 non-null int64)\n",
      "    - N_TRIPS_HBO   (7564 non-null int64)\n",
      "    - N_TRIPS_NHB   (7564 non-null int64)\n",
      "    - HOMETAZi      (7564 non-null int64)\n",
      "    - DTAZi         (7564 non-null int64)\n",
      "  data_av: <populated>\n",
      "  data_ch: DTAZ\n"
     ]
    }
   ],
   "source": [
    "dfs.info(1)"
   ]
  },
  {
   "cell_type": "code",
   "execution_count": 65,
   "metadata": {},
   "outputs": [],
   "source": [
    "m = larch.Model(dataservice=dfs)"
   ]
  },
  {
   "cell_type": "code",
   "execution_count": 66,
   "metadata": {},
   "outputs": [],
   "source": [
    "m.quantity_ca = (\n",
    "        + P.EmpRetail_HighInc * X('RETAIL_EMP * (INCOME>50000)')\n",
    "        + P.EmpNonRetail_HighInc * X('NONRETAIL_EMP') * X(\"INCOME>50000\")\n",
    "        + P.EmpRetail_LowInc * X('RETAIL_EMP') * X(\"INCOME<=50000\")\n",
    "        + P.EmpNonRetail_LowInc * X('NONRETAIL_EMP') * X(\"INCOME<=50000\")\n",
    ")"
   ]
  },
  {
   "cell_type": "code",
   "execution_count": 67,
   "metadata": {},
   "outputs": [],
   "source": [
    "m.quantity_scale = P.Theta"
   ]
  },
  {
   "cell_type": "code",
   "execution_count": 68,
   "metadata": {},
   "outputs": [],
   "source": [
    "m.utility_ca = (\n",
    "    + P.logsum * X.logsum\n",
    "    + P.distance * X.distance\n",
    ")"
   ]
  },
  {
   "cell_type": "code",
   "execution_count": 69,
   "metadata": {},
   "outputs": [],
   "source": [
    "m.lock_values(\n",
    "    EmpRetail_HighInc=0,\n",
    "    EmpRetail_LowInc=0,\n",
    ")"
   ]
  },
  {
   "cell_type": "code",
   "execution_count": 70,
   "metadata": {},
   "outputs": [
    {
     "name": "stderr",
     "output_type": "stream",
     "text": [
      "req_data does not request {choice_ca,choice_co,choice_co_code} but choice is set and being provided\n",
      "req_data does not request avail_ca or avail_co but it is set and being provided\n"
     ]
    }
   ],
   "source": [
    "m.load_data()"
   ]
  },
  {
   "cell_type": "code",
   "execution_count": 71,
   "metadata": {},
   "outputs": [
    {
     "data": {
      "text/html": [
       "<h3>Iteration 005 [Converged] </h3>"
      ],
      "text/plain": [
       "<IPython.core.display.HTML object>"
      ]
     },
     "metadata": {},
     "output_type": "display_data"
    },
    {
     "data": {
      "text/html": [
       "<p>LL = -25157.72357461649</p>"
      ],
      "text/plain": [
       "<IPython.core.display.HTML object>"
      ]
     },
     "metadata": {},
     "output_type": "display_data"
    },
    {
     "data": {
      "text/html": [
       "<div>\n",
       "<style scoped>\n",
       "    .dataframe tbody tr th:only-of-type {\n",
       "        vertical-align: middle;\n",
       "    }\n",
       "\n",
       "    .dataframe tbody tr th {\n",
       "        vertical-align: top;\n",
       "    }\n",
       "\n",
       "    .dataframe thead th {\n",
       "        text-align: right;\n",
       "    }\n",
       "</style>\n",
       "<table border=\"1\" class=\"dataframe\">\n",
       "  <thead>\n",
       "    <tr style=\"text-align: right;\">\n",
       "      <th></th>\n",
       "      <th>value</th>\n",
       "      <th>initvalue</th>\n",
       "      <th>nullvalue</th>\n",
       "      <th>minimum</th>\n",
       "      <th>maximum</th>\n",
       "      <th>holdfast</th>\n",
       "      <th>note</th>\n",
       "      <th>best</th>\n",
       "    </tr>\n",
       "  </thead>\n",
       "  <tbody>\n",
       "    <tr>\n",
       "      <th>EmpNonRetail_HighInc</th>\n",
       "      <td>1.363985</td>\n",
       "      <td>0.0</td>\n",
       "      <td>0.0</td>\n",
       "      <td>-inf</td>\n",
       "      <td>inf</td>\n",
       "      <td>0</td>\n",
       "      <td></td>\n",
       "      <td>1.363985</td>\n",
       "    </tr>\n",
       "    <tr>\n",
       "      <th>EmpNonRetail_LowInc</th>\n",
       "      <td>-0.881366</td>\n",
       "      <td>0.0</td>\n",
       "      <td>0.0</td>\n",
       "      <td>-inf</td>\n",
       "      <td>inf</td>\n",
       "      <td>0</td>\n",
       "      <td></td>\n",
       "      <td>-0.881366</td>\n",
       "    </tr>\n",
       "    <tr>\n",
       "      <th>EmpRetail_HighInc</th>\n",
       "      <td>0.000000</td>\n",
       "      <td>0.0</td>\n",
       "      <td>0.0</td>\n",
       "      <td>0.000</td>\n",
       "      <td>0.0</td>\n",
       "      <td>1</td>\n",
       "      <td></td>\n",
       "      <td>0.000000</td>\n",
       "    </tr>\n",
       "    <tr>\n",
       "      <th>EmpRetail_LowInc</th>\n",
       "      <td>0.000000</td>\n",
       "      <td>0.0</td>\n",
       "      <td>0.0</td>\n",
       "      <td>0.000</td>\n",
       "      <td>0.0</td>\n",
       "      <td>1</td>\n",
       "      <td></td>\n",
       "      <td>0.000000</td>\n",
       "    </tr>\n",
       "    <tr>\n",
       "      <th>Theta</th>\n",
       "      <td>0.749371</td>\n",
       "      <td>1.0</td>\n",
       "      <td>1.0</td>\n",
       "      <td>0.001</td>\n",
       "      <td>1.0</td>\n",
       "      <td>0</td>\n",
       "      <td></td>\n",
       "      <td>0.749371</td>\n",
       "    </tr>\n",
       "    <tr>\n",
       "      <th>distance</th>\n",
       "      <td>-0.041811</td>\n",
       "      <td>0.0</td>\n",
       "      <td>0.0</td>\n",
       "      <td>-inf</td>\n",
       "      <td>inf</td>\n",
       "      <td>0</td>\n",
       "      <td></td>\n",
       "      <td>-0.041811</td>\n",
       "    </tr>\n",
       "    <tr>\n",
       "      <th>logsum</th>\n",
       "      <td>1.020790</td>\n",
       "      <td>0.0</td>\n",
       "      <td>0.0</td>\n",
       "      <td>-inf</td>\n",
       "      <td>inf</td>\n",
       "      <td>0</td>\n",
       "      <td></td>\n",
       "      <td>1.020790</td>\n",
       "    </tr>\n",
       "  </tbody>\n",
       "</table>\n",
       "</div>"
      ],
      "text/plain": [
       "                         value  initvalue  nullvalue  minimum  maximum  \\\n",
       "EmpNonRetail_HighInc  1.363985        0.0        0.0     -inf      inf   \n",
       "EmpNonRetail_LowInc  -0.881366        0.0        0.0     -inf      inf   \n",
       "EmpRetail_HighInc     0.000000        0.0        0.0    0.000      0.0   \n",
       "EmpRetail_LowInc      0.000000        0.0        0.0    0.000      0.0   \n",
       "Theta                 0.749371        1.0        1.0    0.001      1.0   \n",
       "distance             -0.041811        0.0        0.0     -inf      inf   \n",
       "logsum                1.020790        0.0        0.0     -inf      inf   \n",
       "\n",
       "                      holdfast note      best  \n",
       "EmpNonRetail_HighInc         0       1.363985  \n",
       "EmpNonRetail_LowInc          0      -0.881366  \n",
       "EmpRetail_HighInc            1       0.000000  \n",
       "EmpRetail_LowInc             1       0.000000  \n",
       "Theta                        0       0.749371  \n",
       "distance                     0      -0.041811  \n",
       "logsum                       0       1.020790  "
      ]
     },
     "metadata": {},
     "output_type": "display_data"
    },
    {
     "data": {
      "text/html": [
       "<div><table style=\"margin-top:1px;\"><tr><th>key</th><th style=\"text-align:left;\">value</th></tr><tr><td>loglike</td><td style=\"text-align:left;\">-25157.72357461649</td></tr><tr><td>x</td><td style=\"text-align:left;\"><table border=\"1\" class=\"dataframe\">\n",
       "  <thead>\n",
       "    <tr style=\"text-align: right;\">\n",
       "      <th></th>\n",
       "      <th>0</th>\n",
       "    </tr>\n",
       "  </thead>\n",
       "  <tbody>\n",
       "    <tr>\n",
       "      <th>EmpNonRetail_HighInc</th>\n",
       "      <td>1.363985</td>\n",
       "    </tr>\n",
       "    <tr>\n",
       "      <th>EmpNonRetail_LowInc</th>\n",
       "      <td>-0.881366</td>\n",
       "    </tr>\n",
       "    <tr>\n",
       "      <th>EmpRetail_HighInc</th>\n",
       "      <td>0.000000</td>\n",
       "    </tr>\n",
       "    <tr>\n",
       "      <th>EmpRetail_LowInc</th>\n",
       "      <td>0.000000</td>\n",
       "    </tr>\n",
       "    <tr>\n",
       "      <th>Theta</th>\n",
       "      <td>0.749371</td>\n",
       "    </tr>\n",
       "    <tr>\n",
       "      <th>distance</th>\n",
       "      <td>-0.041811</td>\n",
       "    </tr>\n",
       "    <tr>\n",
       "      <th>logsum</th>\n",
       "      <td>1.020790</td>\n",
       "    </tr>\n",
       "  </tbody>\n",
       "</table></td></tr><tr><td>tolerance</td><td style=\"text-align:left;\">1.6901098901897463e-08</td></tr><tr><td>steps</td><td style=\"text-align:left;\">array([1., 1., 1., 1., 1.])</td></tr><tr><td>message</td><td style=\"text-align:left;\">'Optimization terminated successfully.'</td></tr><tr><td>elapsed_time</td><td style=\"text-align:left;\">0:00:00.263914</td></tr><tr><td>method</td><td style=\"text-align:left;\">'bhhh'</td></tr><tr><td>n_cases</td><td style=\"text-align:left;\">7564</td></tr><tr><td>iteration_number</td><td style=\"text-align:left;\">5</td></tr><tr><td>logloss</td><td style=\"text-align:left;\">3.3259814350365535</td></tr></table></div>"
      ],
      "text/plain": [
       "┣          loglike: -25157.72357461649\n",
       "┣                x: EmpNonRetail_HighInc    1.363985\n",
       "┃                   EmpNonRetail_LowInc    -0.881366\n",
       "┃                   EmpRetail_HighInc       0.000000\n",
       "┃                   EmpRetail_LowInc        0.000000\n",
       "┃                   Theta                   0.749371\n",
       "┃                   distance               -0.041811\n",
       "┃                   logsum                  1.020790\n",
       "┃                   dtype: float64\n",
       "┣        tolerance: 1.6901098901897463e-08\n",
       "┣            steps: array([1., 1., 1., 1., 1.])\n",
       "┣          message: 'Optimization terminated successfully.'\n",
       "┣     elapsed_time: datetime.timedelta(microseconds=263914)\n",
       "┣           method: 'bhhh'\n",
       "┣          n_cases: 7564\n",
       "┣ iteration_number: 5\n",
       "┣          logloss: 3.3259814350365535"
      ]
     },
     "execution_count": 71,
     "metadata": {},
     "output_type": "execute_result"
    }
   ],
   "source": [
    "m.maximize_loglike()"
   ]
  },
  {
   "cell_type": "code",
   "execution_count": 72,
   "metadata": {},
   "outputs": [],
   "source": [
    "m.calculate_parameter_covariance()"
   ]
  },
  {
   "cell_type": "code",
   "execution_count": 73,
   "metadata": {},
   "outputs": [
    {
     "data": {
      "text/html": [
       "<div><table><thead><tr><th style=\"text-align: left;\">Parameter</th><th>Value</th><th>Std Err</th><th>t Stat</th><th>Null Value</th></tr></thead><tbody><tr><th style=\"vertical-align: top; text-align: left;\">EmpNonRetail_HighInc</th><td>1.364</td><td>0.256</td><td>5.32</td><td>0.0</td></tr><tr><th style=\"vertical-align: top; text-align: left;\">EmpNonRetail_LowInc</th><td>-0.8814</td><td>0.0791</td><td>-11.14</td><td>0.0</td></tr><tr><th style=\"vertical-align: top; text-align: left;\">EmpRetail_HighInc</th><td>0</td><td colspan=\"3\" style=\"text-align: left;\">fixed value</td></tr><tr><th style=\"vertical-align: top; text-align: left;\">EmpRetail_LowInc</th><td>0</td><td colspan=\"3\" style=\"text-align: left;\">fixed value</td></tr><tr><th style=\"vertical-align: top; text-align: left;\">Theta</th><td>0.7494</td><td>0.0152</td><td>-16.45</td><td>1.0</td></tr><tr><th style=\"vertical-align: top; text-align: left;\">distance</th><td>-0.04181</td><td>0.0107</td><td>-3.90</td><td>0.0</td></tr><tr><th style=\"vertical-align: top; text-align: left;\">logsum</th><td>1.021</td><td>0.0317</td><td>32.16</td><td>0.0</td></tr></tbody></table></div>"
      ],
      "text/plain": [
       "            Parameter     Value      Std Err  t Stat  Null Value\n",
       " EmpNonRetail_HighInc     1.364        0.256    5.32         0.0\n",
       "  EmpNonRetail_LowInc   -0.8814       0.0791  -11.14         0.0\n",
       "    EmpRetail_HighInc         0  fixed value                    \n",
       "     EmpRetail_LowInc         0  fixed value                    \n",
       "                Theta    0.7494       0.0152  -16.45         1.0\n",
       "             distance  -0.04181       0.0107   -3.90         0.0\n",
       "               logsum     1.021       0.0317   32.16         0.0"
      ]
     },
     "execution_count": 73,
     "metadata": {},
     "output_type": "execute_result"
    }
   ],
   "source": [
    "m.parameter_summary()"
   ]
  },
  {
   "cell_type": "code",
   "execution_count": 74,
   "metadata": {},
   "outputs": [
    {
     "data": {
      "text/html": [
       "<div><table><thead><tr><th>Statistic</th><th>Aggregate</th><th>Per Case</th></tr><tr><td>Number of Cases</td><td colspan=\"2\">7564</td></tr><tr><td>Log Likelihood at Convergence</td><td>-25157.72</td><td>-3.33</td></tr><tr><td>Log Likelihood at Null Parameters</td><td>-28238.34</td><td>-3.73</td></tr><tr><td>Rho Squared w.r.t. Null Parameters</td><td colspan=\"2\">0.109</td></tr></thead><tbody></tbody></table></div>"
      ],
      "text/plain": [
       "<xmle.Elem 'div' with 1 children>"
      ]
     },
     "execution_count": 74,
     "metadata": {},
     "output_type": "execute_result"
    }
   ],
   "source": [
    "m.estimation_statistics()"
   ]
  },
  {
   "cell_type": "code",
   "execution_count": 75,
   "metadata": {},
   "outputs": [
    {
     "data": {
      "text/html": [
       "<div><table class=\"floatinghead\" style=\"margin-top:1px;\"><tr><td style=\"text-align:left;\"><div></div> + <span class=\"LinearFunc_Param\">P.logsum</span> * <span class=\"LinearFunc_Data\">X.logsum</span><br> + <span class=\"LinearFunc_Param\">P.distance</span> * <span class=\"LinearFunc_Data\">X.distance</span><br> + <span class=\"Larch_Parameter\">P.Theta</span> * log(<br>   + <span></span>exp(<span class=\"LinearFunc_Param\">P.EmpRetail_HighInc</span>) * <span class=\"LinearFunc_Data\">X('RETAIL_EMP * (INCOME&gt;50000)')</span><br>   + <span></span>exp(<span class=\"LinearFunc_Param\">P.EmpNonRetail_HighInc</span>) * <span class=\"LinearFunc_Data\">X('NONRETAIL_EMP*(INCOME&gt;50000)')</span><br>   + <span></span>exp(<span class=\"LinearFunc_Param\">P.EmpRetail_LowInc</span>) * <span class=\"LinearFunc_Data\">X('RETAIL_EMP*(INCOME&lt;=50000)')</span><br>   + <span></span>exp(<span class=\"LinearFunc_Param\">P.EmpNonRetail_LowInc</span>) * <span class=\"LinearFunc_Data\">X('NONRETAIL_EMP*(INCOME&lt;=50000)')</span><br>)</td></tr></table></div>"
      ],
      "text/plain": [
       "<xmle.Elem 'div' with 1 children>"
      ]
     },
     "execution_count": 75,
     "metadata": {},
     "output_type": "execute_result"
    }
   ],
   "source": [
    "m.utility_functions()"
   ]
  },
  {
   "cell_type": "code",
   "execution_count": 76,
   "metadata": {},
   "outputs": [
    {
     "data": {
      "image/png": "[encoded data removed]",
      "text/plain": [
       "<Figure size 432x288 with 1 Axes>"
      ]
     },
     "execution_count": 76,
     "metadata": {},
     "output_type": "execute_result"
    },
    {
     "data": {
      "image/png": "[encoded data removed]",
      "text/plain": [
       "<Figure size 432x288 with 1 Axes>"
      ]
     },
     "metadata": {
      "needs_background": "light"
     },
     "output_type": "display_data"
    }
   ],
   "source": [
    "m.distribution_on_idca_variable('distance')"
   ]
  },
  {
   "cell_type": "code",
   "execution_count": 77,
   "metadata": {},
   "outputs": [
    {
     "data": {
      "image/png": "[encoded data removed]",
      "text/plain": [
       "<Figure size 432x288 with 1 Axes>"
      ]
     },
     "execution_count": 77,
     "metadata": {},
     "output_type": "execute_result"
    },
    {
     "data": {
      "image/png": "[encoded data removed]",
      "text/plain": [
       "<Figure size 432x288 with 1 Axes>"
      ]
     },
     "metadata": {
      "needs_background": "light"
     },
     "output_type": "display_data"
    }
   ],
   "source": [
    "m.distribution_on_idca_variable(\n",
    "    m.dataservice.data_ca.TAZ_AREA_TYPE\n",
    ")"
   ]
  },
  {
   "cell_type": "code",
   "execution_count": 78,
   "metadata": {},
   "outputs": [
    {
     "data": {
      "image/png": "[encoded data removed]",
      "text/plain": [
       "<Figure size 432x288 with 1 Axes>"
      ]
     },
     "execution_count": 78,
     "metadata": {},
     "output_type": "execute_result"
    },
    {
     "data": {
      "image/png": "[encoded data removed]",
      "text/plain": [
       "<Figure size 432x288 with 1 Axes>"
      ]
     },
     "metadata": {
      "needs_background": "light"
     },
     "output_type": "display_data"
    }
   ],
   "source": [
    "m.distribution_on_idca_variable('distance', bins=40, range=(0,10))"
   ]
  },
  {
   "cell_type": "code",
   "execution_count": 79,
   "metadata": {},
   "outputs": [
    {
     "data": {
      "image/png": "[encoded data removed]",
      "text/plain": [
       "<Figure size 432x288 with 1 Axes>"
      ]
     },
     "execution_count": 79,
     "metadata": {},
     "output_type": "execute_result"
    },
    {
     "data": {
      "image/png": "[encoded data removed]",
      "text/plain": [
       "<Figure size 432x288 with 1 Axes>"
      ]
     },
     "metadata": {
      "needs_background": "light"
     },
     "output_type": "display_data"
    }
   ],
   "source": [
    "m.distribution_on_idca_variable(\n",
    "    'distance',\n",
    "    style='kde',\n",
    "    range=(0,13),\n",
    ")"
   ]
  },
  {
   "cell_type": "code",
   "execution_count": 80,
   "metadata": {},
   "outputs": [
    {
     "data": {
      "image/png": "[encoded data removed]",
      "text/plain": [
       "<Figure size 432x288 with 1 Axes>"
      ]
     },
     "execution_count": 80,
     "metadata": {},
     "output_type": "execute_result"
    },
    {
     "data": {
      "image/png": "[encoded data removed]",
      "text/plain": [
       "<Figure size 432x288 with 1 Axes>"
      ]
     },
     "metadata": {
      "needs_background": "light"
     },
     "output_type": "display_data"
    }
   ],
   "source": [
    "m.distribution_on_idca_variable(\n",
    "    'distance',\n",
    "    subselector='INCOME<10000',\n",
    ")"
   ]
  },
  {
   "cell_type": "code",
   "execution_count": 81,
   "metadata": {},
   "outputs": [
    {
     "data": {
      "image/png": "[encoded data removed]",
      "text/plain": [
       "<Figure size 432x288 with 1 Axes>"
      ]
     },
     "execution_count": 81,
     "metadata": {},
     "output_type": "execute_result"
    },
    {
     "data": {
      "image/png": "[encoded data removed]",
      "text/plain": [
       "<Figure size 432x288 with 1 Axes>"
      ]
     },
     "metadata": {
      "needs_background": "light"
     },
     "output_type": "display_data"
    }
   ],
   "source": [
    "m.distribution_on_idca_variable(\n",
    "    'distance',\n",
    "    xlabel=\"Distance (miles)\",\n",
    "    bins=26,\n",
    "    subselector='INCOME<10000',\n",
    "    range=(0,13),\n",
    "    header='Destination Distance, Very Low Income (<$10k) Households',\n",
    ")"
   ]
  },
  {
   "cell_type": "code",
   "execution_count": 82,
   "metadata": {},
   "outputs": [
    {
     "data": {
      "image/png": "[encoded data removed]",
      "text/plain": [
       "<Figure size 864x288 with 3 Axes>"
      ]
     },
     "metadata": {
      "needs_background": "light"
     },
     "output_type": "display_data"
    }
   ],
   "source": [
    "from matplotlib import pyplot as plt\n",
    "fig, axes = plt.subplots(1,3, figsize=(12,4))\n",
    "\n",
    "income_categories = {\n",
    "    'Low Income': 'INCOME<10000',\n",
    "    'Mid Income': '(10000<=INCOME) & (INCOME<50000)',\n",
    "    'High Income': 'INCOME>=50000',\n",
    "}\n",
    "\n",
    "for ax, (inc_title, inc) in zip(axes, income_categories.items()):\n",
    "    m.distribution_on_idca_variable(\n",
    "        'distance',\n",
    "        subselector=inc,\n",
    "        ax=ax,\n",
    "        range=(0,13),\n",
    "    )\n",
    "    ax.set_title(inc_title)"
   ]
  },
  {
   "cell_type": "code",
   "execution_count": 83,
   "metadata": {},
   "outputs": [],
   "source": [
    "report = larch.Reporter(title=m.title)"
   ]
  },
  {
   "cell_type": "code",
   "execution_count": 84,
   "metadata": {},
   "outputs": [
    {
     "data": {
      "text/html": [
       "<h1><a class=\"toc\" name=\"rx4\" reftxt=\"Parameter Summary\" toclevel=\"1\"></a>Parameter Summary</h1><div><table><thead><tr><th style=\"text-align: left;\">Parameter</th><th>Value</th><th>Std Err</th><th>t Stat</th><th>Null Value</th></tr></thead><tbody><tr><th style=\"vertical-align: top; text-align: left;\">EmpNonRetail_HighInc</th><td>1.364</td><td>0.256</td><td>5.32</td><td>0.0</td></tr><tr><th style=\"vertical-align: top; text-align: left;\">EmpNonRetail_LowInc</th><td>-0.8814</td><td>0.0791</td><td>-11.14</td><td>0.0</td></tr><tr><th style=\"vertical-align: top; text-align: left;\">EmpRetail_HighInc</th><td>0</td><td colspan=\"3\" style=\"text-align: left;\">fixed value</td></tr><tr><th style=\"vertical-align: top; text-align: left;\">EmpRetail_LowInc</th><td>0</td><td colspan=\"3\" style=\"text-align: left;\">fixed value</td></tr><tr><th style=\"vertical-align: top; text-align: left;\">Theta</th><td>0.7494</td><td>0.0152</td><td>-16.45</td><td>1.0</td></tr><tr><th style=\"vertical-align: top; text-align: left;\">distance</th><td>-0.04181</td><td>0.0107</td><td>-3.90</td><td>0.0</td></tr><tr><th style=\"vertical-align: top; text-align: left;\">logsum</th><td>1.021</td><td>0.0317</td><td>32.16</td><td>0.0</td></tr></tbody></table></div>"
      ],
      "text/plain": [
       "<xmle.Elem 'div' with 3 children>"
      ]
     },
     "execution_count": 84,
     "metadata": {},
     "output_type": "execute_result"
    }
   ],
   "source": [
    "report << '# Parameter Summary' << m.parameter_summary()"
   ]
  },
  {
   "cell_type": "code",
   "execution_count": 85,
   "metadata": {},
   "outputs": [
    {
     "data": {
      "text/html": [
       "<h1><a class=\"toc\" name=\"rx5\" reftxt=\"Estimation Statistics\" toclevel=\"1\"></a>Estimation Statistics</h1><div><table><thead><tr><th>Statistic</th><th>Aggregate</th><th>Per Case</th></tr><tr><td>Number of Cases</td><td colspan=\"2\">7564</td></tr><tr><td>Log Likelihood at Convergence</td><td>-25157.72</td><td>-3.33</td></tr><tr><td>Log Likelihood at Null Parameters</td><td>-28238.34</td><td>-3.73</td></tr><tr><td>Rho Squared w.r.t. Null Parameters</td><td colspan=\"2\">0.109</td></tr></thead><tbody></tbody></table></div>"
      ],
      "text/plain": [
       "<xmle.Elem 'div' with 5 children>"
      ]
     },
     "execution_count": 85,
     "metadata": {},
     "output_type": "execute_result"
    }
   ],
   "source": [
    "report << \"# Estimation Statistics\" << m.estimation_statistics()"
   ]
  },
  {
   "cell_type": "code",
   "execution_count": 86,
   "metadata": {},
   "outputs": [
    {
     "data": {
      "text/html": [
       "<h1><a class=\"toc\" name=\"rx6\" reftxt=\"Utility Functions\" toclevel=\"1\"></a>Utility Functions</h1><div><table class=\"floatinghead\" style=\"margin-top:1px;\"><tr><td style=\"text-align:left;\"><div></div> + <span class=\"LinearFunc_Param\">P.logsum</span> * <span class=\"LinearFunc_Data\">X.logsum</span><br> + <span class=\"LinearFunc_Param\">P.distance</span> * <span class=\"LinearFunc_Data\">X.distance</span><br> + <span class=\"Larch_Parameter\">P.Theta</span> * log(<br>   + <span></span>exp(<span class=\"LinearFunc_Param\">P.EmpRetail_HighInc</span>) * <span class=\"LinearFunc_Data\">X('RETAIL_EMP * (INCOME&gt;50000)')</span><br>   + <span></span>exp(<span class=\"LinearFunc_Param\">P.EmpNonRetail_HighInc</span>) * <span class=\"LinearFunc_Data\">X('NONRETAIL_EMP*(INCOME&gt;50000)')</span><br>   + <span></span>exp(<span class=\"LinearFunc_Param\">P.EmpRetail_LowInc</span>) * <span class=\"LinearFunc_Data\">X('RETAIL_EMP*(INCOME&lt;=50000)')</span><br>   + <span></span>exp(<span class=\"LinearFunc_Param\">P.EmpNonRetail_LowInc</span>) * <span class=\"LinearFunc_Data\">X('NONRETAIL_EMP*(INCOME&lt;=50000)')</span><br>)</td></tr></table></div>"
      ],
      "text/plain": [
       "<xmle.Elem 'div' with 7 children>"
      ]
     },
     "execution_count": 86,
     "metadata": {},
     "output_type": "execute_result"
    }
   ],
   "source": [
    "report << \"# Utility Functions\" << m.utility_functions()"
   ]
  },
  {
   "cell_type": "code",
   "execution_count": 87,
   "metadata": {},
   "outputs": [
    {
     "data": {
      "text/plain": [
       "'/tmp/exampville_destination_choice.html'"
      ]
     },
     "execution_count": 87,
     "metadata": {},
     "output_type": "execute_result"
    }
   ],
   "source": [
    "report.save(\n",
    "    '/tmp/exampville_destination_choice.html',\n",
    "    overwrite=True,\n",
    "    metadata=m,\n",
    ")"
   ]
  },
  {
   "cell_type": "code",
   "execution_count": null,
   "metadata": {},
   "outputs": [],
   "source": []
  }
 ],
 "metadata": {
  "kernelspec": {
   "display_name": "Python 3",
   "language": "python",
   "name": "python3"
  },
  "language_info": {
   "codemirror_mode": {
    "name": "ipython",
    "version": 3
   },
   "file_extension": ".py",
   "mimetype": "text/x-python",
   "name": "python",
   "nbconvert_exporter": "python",
   "pygments_lexer": "ipython3",
   "version": "3.7.7"
  }
 },
 "nbformat": 4,
 "nbformat_minor": 4
}
